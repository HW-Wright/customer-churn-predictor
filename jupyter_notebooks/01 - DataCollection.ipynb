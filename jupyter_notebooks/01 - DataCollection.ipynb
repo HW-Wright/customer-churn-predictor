{
  "cells": [
    {
      "cell_type": "markdown",
      "metadata": {
        "id": "0aStgWSO0E0E"
      },
      "source": [
        "# **Data Collection Notebook**"
      ]
    },
    {
      "cell_type": "markdown",
      "metadata": {
        "id": "1eLEkw5O0ECa"
      },
      "source": [
        "## Objectives\n",
        "\n",
        "* Fetch data from Kaggle and save it as raw data.\n",
        "* Inspect the data and save it under outputs/datasets/collection\n",
        "\n",
        "## Inputs\n",
        "\n",
        "*   Kaggle JSON file - the authentication token.\n",
        "\n",
        "## Outputs\n",
        "\n",
        "* Generate Dataset: outputs/datasets/collection/TelcoCustomerChurn.csv\n"
      ]
    },
    {
      "cell_type": "markdown",
      "metadata": {
        "id": "9uWZXH9LwoQg"
      },
      "source": [
        "---"
      ]
    },
    {
      "attachments": {},
      "cell_type": "markdown",
      "metadata": {},
      "source": [
        "# Install python packages in the notebooks"
      ]
    },
    {
      "cell_type": "code",
      "execution_count": 4,
      "metadata": {},
      "outputs": [
        {
          "name": "stdout",
          "output_type": "stream",
          "text": [
            "Defaulting to user installation because normal site-packages is not writeable\n",
            "Requirement already satisfied: numpy==1.26.0 in /Users/Endeavour/Library/Python/3.9/lib/python/site-packages (from -r /Users/Endeavour/Code/customer-churn-predictor/customer-churn-predictor/requirements.txt (line 1)) (1.26.0)\n",
            "Requirement already satisfied: pandas==1.4.2 in /Users/Endeavour/Library/Python/3.9/lib/python/site-packages (from -r /Users/Endeavour/Code/customer-churn-predictor/customer-churn-predictor/requirements.txt (line 2)) (1.4.2)\n",
            "Requirement already satisfied: seaborn==0.12.2 in /Users/Endeavour/Library/Python/3.9/lib/python/site-packages (from -r /Users/Endeavour/Code/customer-churn-predictor/customer-churn-predictor/requirements.txt (line 3)) (0.12.2)\n",
            "Requirement already satisfied: ydata-profiling==4.10.0 in /Users/Endeavour/Library/Python/3.9/lib/python/site-packages (from -r /Users/Endeavour/Code/customer-churn-predictor/customer-churn-predictor/requirements.txt (line 4)) (4.10.0)\n",
            "Requirement already satisfied: plotly==5.15.0 in /Users/Endeavour/Library/Python/3.9/lib/python/site-packages (from -r /Users/Endeavour/Code/customer-churn-predictor/customer-churn-predictor/requirements.txt (line 5)) (5.15.0)\n",
            "Requirement already satisfied: feature-engine==1.6.1 in /Users/Endeavour/Library/Python/3.9/lib/python/site-packages (from -r /Users/Endeavour/Code/customer-churn-predictor/customer-churn-predictor/requirements.txt (line 6)) (1.6.1)\n",
            "Requirement already satisfied: imbalanced-learn==0.11.0 in /Users/Endeavour/Library/Python/3.9/lib/python/site-packages (from -r /Users/Endeavour/Code/customer-churn-predictor/customer-churn-predictor/requirements.txt (line 7)) (0.11.0)\n",
            "Requirement already satisfied: scikit-learn==1.3.0 in /Users/Endeavour/Library/Python/3.9/lib/python/site-packages (from -r /Users/Endeavour/Code/customer-churn-predictor/customer-churn-predictor/requirements.txt (line 8)) (1.3.0)\n",
            "Requirement already satisfied: xgboost==1.7.6 in /Users/Endeavour/Library/Python/3.9/lib/python/site-packages (from -r /Users/Endeavour/Code/customer-churn-predictor/customer-churn-predictor/requirements.txt (line 9)) (1.7.6)\n",
            "Requirement already satisfied: yellowbrick==1.5 in /Users/Endeavour/Library/Python/3.9/lib/python/site-packages (from -r /Users/Endeavour/Code/customer-churn-predictor/customer-churn-predictor/requirements.txt (line 10)) (1.5)\n",
            "Requirement already satisfied: Jinja2==3.1.2 in /Users/Endeavour/Library/Python/3.9/lib/python/site-packages (from -r /Users/Endeavour/Code/customer-churn-predictor/customer-churn-predictor/requirements.txt (line 11)) (3.1.2)\n",
            "Requirement already satisfied: MarkupSafe==2.1.3 in /Users/Endeavour/Library/Python/3.9/lib/python/site-packages (from -r /Users/Endeavour/Code/customer-churn-predictor/customer-churn-predictor/requirements.txt (line 12)) (2.1.3)\n",
            "Requirement already satisfied: protobuf==3.20.0 in /Users/Endeavour/Library/Python/3.9/lib/python/site-packages (from -r /Users/Endeavour/Code/customer-churn-predictor/customer-churn-predictor/requirements.txt (line 13)) (3.20.0)\n",
            "Requirement already satisfied: ipywidgets==8.1.0 in /Users/Endeavour/Library/Python/3.9/lib/python/site-packages (from -r /Users/Endeavour/Code/customer-churn-predictor/customer-churn-predictor/requirements.txt (line 14)) (8.1.0)\n",
            "Requirement already satisfied: altair<5 in /Users/Endeavour/Library/Python/3.9/lib/python/site-packages (from -r /Users/Endeavour/Code/customer-churn-predictor/customer-churn-predictor/requirements.txt (line 15)) (4.2.2)\n",
            "Requirement already satisfied: matplotlib==3.9.2 in /Users/Endeavour/Library/Python/3.9/lib/python/site-packages (from -r /Users/Endeavour/Code/customer-churn-predictor/customer-churn-predictor/requirements.txt (line 16)) (3.9.2)\n",
            "Requirement already satisfied: numba==0.60.0 in /Users/Endeavour/Library/Python/3.9/lib/python/site-packages (from -r /Users/Endeavour/Code/customer-churn-predictor/customer-churn-predictor/requirements.txt (line 17)) (0.60.0)\n",
            "Requirement already satisfied: phik==0.12.4 in /Users/Endeavour/Library/Python/3.9/lib/python/site-packages (from -r /Users/Endeavour/Code/customer-churn-predictor/customer-churn-predictor/requirements.txt (line 18)) (0.12.4)\n",
            "Requirement already satisfied: pydantic==2.9.1 in /Users/Endeavour/Library/Python/3.9/lib/python/site-packages (from -r /Users/Endeavour/Code/customer-churn-predictor/customer-churn-predictor/requirements.txt (line 19)) (2.9.1)\n",
            "Requirement already satisfied: PyYAML==6.0.2 in /Users/Endeavour/Library/Python/3.9/lib/python/site-packages (from -r /Users/Endeavour/Code/customer-churn-predictor/customer-churn-predictor/requirements.txt (line 20)) (6.0.2)\n",
            "Requirement already satisfied: scipy==1.13.1 in /Users/Endeavour/Library/Python/3.9/lib/python/site-packages (from -r /Users/Endeavour/Code/customer-churn-predictor/customer-churn-predictor/requirements.txt (line 21)) (1.13.1)\n",
            "Requirement already satisfied: statsmodels==0.14.2 in /Users/Endeavour/Library/Python/3.9/lib/python/site-packages (from -r /Users/Endeavour/Code/customer-churn-predictor/customer-churn-predictor/requirements.txt (line 22)) (0.14.2)\n",
            "Requirement already satisfied: sweetviz in /Users/Endeavour/Library/Python/3.9/lib/python/site-packages (from -r /Users/Endeavour/Code/customer-churn-predictor/customer-churn-predictor/requirements.txt (line 23)) (2.3.1)\n",
            "Collecting nbformat>=4.2.0 (from -r /Users/Endeavour/Code/customer-churn-predictor/customer-churn-predictor/requirements.txt (line 24))\n",
            "  Using cached nbformat-5.10.4-py3-none-any.whl.metadata (3.6 kB)\n",
            "Requirement already satisfied: python-dateutil>=2.8.1 in /Users/Endeavour/Library/Python/3.9/lib/python/site-packages (from pandas==1.4.2->-r /Users/Endeavour/Code/customer-churn-predictor/customer-churn-predictor/requirements.txt (line 2)) (2.9.0.post0)\n",
            "Requirement already satisfied: pytz>=2020.1 in /Users/Endeavour/Library/Python/3.9/lib/python/site-packages (from pandas==1.4.2->-r /Users/Endeavour/Code/customer-churn-predictor/customer-churn-predictor/requirements.txt (line 2)) (2024.2)\n",
            "Requirement already satisfied: visions<0.7.7,>=0.7.5 in /Users/Endeavour/Library/Python/3.9/lib/python/site-packages (from visions[type_image_path]<0.7.7,>=0.7.5->ydata-profiling==4.10.0->-r /Users/Endeavour/Code/customer-churn-predictor/customer-churn-predictor/requirements.txt (line 4)) (0.7.5)\n",
            "Requirement already satisfied: htmlmin==0.1.12 in /Users/Endeavour/Library/Python/3.9/lib/python/site-packages (from ydata-profiling==4.10.0->-r /Users/Endeavour/Code/customer-churn-predictor/customer-churn-predictor/requirements.txt (line 4)) (0.1.12)\n",
            "Requirement already satisfied: requests<3,>=2.24.0 in /Users/Endeavour/Library/Python/3.9/lib/python/site-packages (from ydata-profiling==4.10.0->-r /Users/Endeavour/Code/customer-churn-predictor/customer-churn-predictor/requirements.txt (line 4)) (2.32.3)\n",
            "Requirement already satisfied: tqdm<5,>=4.48.2 in /Users/Endeavour/Library/Python/3.9/lib/python/site-packages (from ydata-profiling==4.10.0->-r /Users/Endeavour/Code/customer-churn-predictor/customer-churn-predictor/requirements.txt (line 4)) (4.66.5)\n",
            "Requirement already satisfied: multimethod<2,>=1.4 in /Users/Endeavour/Library/Python/3.9/lib/python/site-packages (from ydata-profiling==4.10.0->-r /Users/Endeavour/Code/customer-churn-predictor/customer-churn-predictor/requirements.txt (line 4)) (1.12)\n",
            "Requirement already satisfied: typeguard<5,>=3 in /Users/Endeavour/Library/Python/3.9/lib/python/site-packages (from ydata-profiling==4.10.0->-r /Users/Endeavour/Code/customer-churn-predictor/customer-churn-predictor/requirements.txt (line 4)) (4.3.0)\n",
            "Requirement already satisfied: imagehash==4.3.1 in /Users/Endeavour/Library/Python/3.9/lib/python/site-packages (from ydata-profiling==4.10.0->-r /Users/Endeavour/Code/customer-churn-predictor/customer-churn-predictor/requirements.txt (line 4)) (4.3.1)\n",
            "Requirement already satisfied: wordcloud>=1.9.3 in /Users/Endeavour/Library/Python/3.9/lib/python/site-packages (from ydata-profiling==4.10.0->-r /Users/Endeavour/Code/customer-churn-predictor/customer-churn-predictor/requirements.txt (line 4)) (1.9.3)\n",
            "Requirement already satisfied: dacite>=1.8 in /Users/Endeavour/Library/Python/3.9/lib/python/site-packages (from ydata-profiling==4.10.0->-r /Users/Endeavour/Code/customer-churn-predictor/customer-churn-predictor/requirements.txt (line 4)) (1.8.1)\n",
            "Requirement already satisfied: tenacity>=6.2.0 in /Users/Endeavour/Library/Python/3.9/lib/python/site-packages (from plotly==5.15.0->-r /Users/Endeavour/Code/customer-churn-predictor/customer-churn-predictor/requirements.txt (line 5)) (9.0.0)\n",
            "Requirement already satisfied: packaging in /Users/Endeavour/Library/Python/3.9/lib/python/site-packages (from plotly==5.15.0->-r /Users/Endeavour/Code/customer-churn-predictor/customer-churn-predictor/requirements.txt (line 5)) (24.1)\n",
            "Requirement already satisfied: joblib>=1.1.1 in /Users/Endeavour/Library/Python/3.9/lib/python/site-packages (from imbalanced-learn==0.11.0->-r /Users/Endeavour/Code/customer-churn-predictor/customer-churn-predictor/requirements.txt (line 7)) (1.4.2)\n",
            "Requirement already satisfied: threadpoolctl>=2.0.0 in /Users/Endeavour/Library/Python/3.9/lib/python/site-packages (from imbalanced-learn==0.11.0->-r /Users/Endeavour/Code/customer-churn-predictor/customer-churn-predictor/requirements.txt (line 7)) (3.5.0)\n",
            "Requirement already satisfied: cycler>=0.10.0 in /Users/Endeavour/Library/Python/3.9/lib/python/site-packages (from yellowbrick==1.5->-r /Users/Endeavour/Code/customer-churn-predictor/customer-churn-predictor/requirements.txt (line 10)) (0.12.1)\n",
            "Requirement already satisfied: comm>=0.1.3 in /Users/Endeavour/Library/Python/3.9/lib/python/site-packages (from ipywidgets==8.1.0->-r /Users/Endeavour/Code/customer-churn-predictor/customer-churn-predictor/requirements.txt (line 14)) (0.2.2)\n",
            "Requirement already satisfied: ipython>=6.1.0 in /Users/Endeavour/Library/Python/3.9/lib/python/site-packages (from ipywidgets==8.1.0->-r /Users/Endeavour/Code/customer-churn-predictor/customer-churn-predictor/requirements.txt (line 14)) (8.18.1)\n",
            "Requirement already satisfied: traitlets>=4.3.1 in /Users/Endeavour/Library/Python/3.9/lib/python/site-packages (from ipywidgets==8.1.0->-r /Users/Endeavour/Code/customer-churn-predictor/customer-churn-predictor/requirements.txt (line 14)) (5.14.3)\n",
            "Requirement already satisfied: widgetsnbextension~=4.0.7 in /Users/Endeavour/Library/Python/3.9/lib/python/site-packages (from ipywidgets==8.1.0->-r /Users/Endeavour/Code/customer-churn-predictor/customer-churn-predictor/requirements.txt (line 14)) (4.0.13)\n",
            "Requirement already satisfied: jupyterlab-widgets~=3.0.7 in /Users/Endeavour/Library/Python/3.9/lib/python/site-packages (from ipywidgets==8.1.0->-r /Users/Endeavour/Code/customer-churn-predictor/customer-churn-predictor/requirements.txt (line 14)) (3.0.13)\n",
            "Requirement already satisfied: contourpy>=1.0.1 in /Users/Endeavour/Library/Python/3.9/lib/python/site-packages (from matplotlib==3.9.2->-r /Users/Endeavour/Code/customer-churn-predictor/customer-churn-predictor/requirements.txt (line 16)) (1.3.0)\n",
            "Requirement already satisfied: fonttools>=4.22.0 in /Users/Endeavour/Library/Python/3.9/lib/python/site-packages (from matplotlib==3.9.2->-r /Users/Endeavour/Code/customer-churn-predictor/customer-churn-predictor/requirements.txt (line 16)) (4.53.1)\n",
            "Requirement already satisfied: kiwisolver>=1.3.1 in /Users/Endeavour/Library/Python/3.9/lib/python/site-packages (from matplotlib==3.9.2->-r /Users/Endeavour/Code/customer-churn-predictor/customer-churn-predictor/requirements.txt (line 16)) (1.4.7)\n",
            "Requirement already satisfied: pillow>=8 in /Users/Endeavour/Library/Python/3.9/lib/python/site-packages (from matplotlib==3.9.2->-r /Users/Endeavour/Code/customer-churn-predictor/customer-churn-predictor/requirements.txt (line 16)) (10.4.0)\n",
            "Requirement already satisfied: pyparsing>=2.3.1 in /Users/Endeavour/Library/Python/3.9/lib/python/site-packages (from matplotlib==3.9.2->-r /Users/Endeavour/Code/customer-churn-predictor/customer-churn-predictor/requirements.txt (line 16)) (3.1.4)\n",
            "Requirement already satisfied: importlib-resources>=3.2.0 in /Users/Endeavour/Library/Python/3.9/lib/python/site-packages (from matplotlib==3.9.2->-r /Users/Endeavour/Code/customer-churn-predictor/customer-churn-predictor/requirements.txt (line 16)) (6.4.5)\n",
            "Requirement already satisfied: llvmlite<0.44,>=0.43.0dev0 in /Users/Endeavour/Library/Python/3.9/lib/python/site-packages (from numba==0.60.0->-r /Users/Endeavour/Code/customer-churn-predictor/customer-churn-predictor/requirements.txt (line 17)) (0.43.0)\n",
            "Requirement already satisfied: annotated-types>=0.6.0 in /Users/Endeavour/Library/Python/3.9/lib/python/site-packages (from pydantic==2.9.1->-r /Users/Endeavour/Code/customer-churn-predictor/customer-churn-predictor/requirements.txt (line 19)) (0.7.0)\n",
            "Requirement already satisfied: pydantic-core==2.23.3 in /Users/Endeavour/Library/Python/3.9/lib/python/site-packages (from pydantic==2.9.1->-r /Users/Endeavour/Code/customer-churn-predictor/customer-churn-predictor/requirements.txt (line 19)) (2.23.3)\n",
            "Requirement already satisfied: typing-extensions>=4.6.1 in /Users/Endeavour/Library/Python/3.9/lib/python/site-packages (from pydantic==2.9.1->-r /Users/Endeavour/Code/customer-churn-predictor/customer-churn-predictor/requirements.txt (line 19)) (4.12.2)\n",
            "Requirement already satisfied: patsy>=0.5.6 in /Users/Endeavour/Library/Python/3.9/lib/python/site-packages (from statsmodels==0.14.2->-r /Users/Endeavour/Code/customer-churn-predictor/customer-churn-predictor/requirements.txt (line 22)) (0.5.6)\n",
            "Requirement already satisfied: PyWavelets in /Users/Endeavour/Library/Python/3.9/lib/python/site-packages (from imagehash==4.3.1->ydata-profiling==4.10.0->-r /Users/Endeavour/Code/customer-churn-predictor/customer-churn-predictor/requirements.txt (line 4)) (1.6.0)\n",
            "Requirement already satisfied: entrypoints in /Users/Endeavour/Library/Python/3.9/lib/python/site-packages (from altair<5->-r /Users/Endeavour/Code/customer-churn-predictor/customer-churn-predictor/requirements.txt (line 15)) (0.4)\n",
            "Requirement already satisfied: jsonschema>=3.0 in /Users/Endeavour/Library/Python/3.9/lib/python/site-packages (from altair<5->-r /Users/Endeavour/Code/customer-churn-predictor/customer-churn-predictor/requirements.txt (line 15)) (4.23.0)\n",
            "Requirement already satisfied: toolz in /Users/Endeavour/Library/Python/3.9/lib/python/site-packages (from altair<5->-r /Users/Endeavour/Code/customer-churn-predictor/customer-churn-predictor/requirements.txt (line 15)) (0.12.1)\n",
            "Collecting fastjsonschema>=2.15 (from nbformat>=4.2.0->-r /Users/Endeavour/Code/customer-churn-predictor/customer-churn-predictor/requirements.txt (line 24))\n",
            "  Using cached fastjsonschema-2.20.0-py3-none-any.whl.metadata (2.1 kB)\n",
            "Requirement already satisfied: jupyter-core!=5.0.*,>=4.12 in /Users/Endeavour/Library/Python/3.9/lib/python/site-packages (from nbformat>=4.2.0->-r /Users/Endeavour/Code/customer-churn-predictor/customer-churn-predictor/requirements.txt (line 24)) (5.7.2)\n",
            "Requirement already satisfied: zipp>=3.1.0 in /Users/Endeavour/Library/Python/3.9/lib/python/site-packages (from importlib-resources>=3.2.0->matplotlib==3.9.2->-r /Users/Endeavour/Code/customer-churn-predictor/customer-churn-predictor/requirements.txt (line 16)) (3.20.1)\n",
            "Requirement already satisfied: decorator in /Users/Endeavour/Library/Python/3.9/lib/python/site-packages (from ipython>=6.1.0->ipywidgets==8.1.0->-r /Users/Endeavour/Code/customer-churn-predictor/customer-churn-predictor/requirements.txt (line 14)) (5.1.1)\n",
            "Requirement already satisfied: jedi>=0.16 in /Users/Endeavour/Library/Python/3.9/lib/python/site-packages (from ipython>=6.1.0->ipywidgets==8.1.0->-r /Users/Endeavour/Code/customer-churn-predictor/customer-churn-predictor/requirements.txt (line 14)) (0.19.1)\n",
            "Requirement already satisfied: matplotlib-inline in /Users/Endeavour/Library/Python/3.9/lib/python/site-packages (from ipython>=6.1.0->ipywidgets==8.1.0->-r /Users/Endeavour/Code/customer-churn-predictor/customer-churn-predictor/requirements.txt (line 14)) (0.1.7)\n",
            "Requirement already satisfied: prompt-toolkit<3.1.0,>=3.0.41 in /Users/Endeavour/Library/Python/3.9/lib/python/site-packages (from ipython>=6.1.0->ipywidgets==8.1.0->-r /Users/Endeavour/Code/customer-churn-predictor/customer-churn-predictor/requirements.txt (line 14)) (3.0.47)\n",
            "Requirement already satisfied: pygments>=2.4.0 in /Users/Endeavour/Library/Python/3.9/lib/python/site-packages (from ipython>=6.1.0->ipywidgets==8.1.0->-r /Users/Endeavour/Code/customer-churn-predictor/customer-churn-predictor/requirements.txt (line 14)) (2.18.0)\n",
            "Requirement already satisfied: stack-data in /Users/Endeavour/Library/Python/3.9/lib/python/site-packages (from ipython>=6.1.0->ipywidgets==8.1.0->-r /Users/Endeavour/Code/customer-churn-predictor/customer-churn-predictor/requirements.txt (line 14)) (0.6.3)\n",
            "Requirement already satisfied: exceptiongroup in /Users/Endeavour/Library/Python/3.9/lib/python/site-packages (from ipython>=6.1.0->ipywidgets==8.1.0->-r /Users/Endeavour/Code/customer-churn-predictor/customer-churn-predictor/requirements.txt (line 14)) (1.2.2)\n",
            "Requirement already satisfied: pexpect>4.3 in /Users/Endeavour/Library/Python/3.9/lib/python/site-packages (from ipython>=6.1.0->ipywidgets==8.1.0->-r /Users/Endeavour/Code/customer-churn-predictor/customer-churn-predictor/requirements.txt (line 14)) (4.9.0)\n",
            "Requirement already satisfied: attrs>=22.2.0 in /Users/Endeavour/Library/Python/3.9/lib/python/site-packages (from jsonschema>=3.0->altair<5->-r /Users/Endeavour/Code/customer-churn-predictor/customer-churn-predictor/requirements.txt (line 15)) (24.2.0)\n",
            "Requirement already satisfied: jsonschema-specifications>=2023.03.6 in /Users/Endeavour/Library/Python/3.9/lib/python/site-packages (from jsonschema>=3.0->altair<5->-r /Users/Endeavour/Code/customer-churn-predictor/customer-churn-predictor/requirements.txt (line 15)) (2023.12.1)\n",
            "Requirement already satisfied: referencing>=0.28.4 in /Users/Endeavour/Library/Python/3.9/lib/python/site-packages (from jsonschema>=3.0->altair<5->-r /Users/Endeavour/Code/customer-churn-predictor/customer-churn-predictor/requirements.txt (line 15)) (0.35.1)\n",
            "Requirement already satisfied: rpds-py>=0.7.1 in /Users/Endeavour/Library/Python/3.9/lib/python/site-packages (from jsonschema>=3.0->altair<5->-r /Users/Endeavour/Code/customer-churn-predictor/customer-churn-predictor/requirements.txt (line 15)) (0.20.0)\n",
            "Requirement already satisfied: platformdirs>=2.5 in /Users/Endeavour/Library/Python/3.9/lib/python/site-packages (from jupyter-core!=5.0.*,>=4.12->nbformat>=4.2.0->-r /Users/Endeavour/Code/customer-churn-predictor/customer-churn-predictor/requirements.txt (line 24)) (4.3.2)\n",
            "Requirement already satisfied: six in /Library/Developer/CommandLineTools/Library/Frameworks/Python3.framework/Versions/3.9/lib/python3.9/site-packages (from patsy>=0.5.6->statsmodels==0.14.2->-r /Users/Endeavour/Code/customer-churn-predictor/customer-churn-predictor/requirements.txt (line 22)) (1.15.0)\n",
            "Requirement already satisfied: charset-normalizer<4,>=2 in /Users/Endeavour/Library/Python/3.9/lib/python/site-packages (from requests<3,>=2.24.0->ydata-profiling==4.10.0->-r /Users/Endeavour/Code/customer-churn-predictor/customer-churn-predictor/requirements.txt (line 4)) (3.3.2)\n",
            "Requirement already satisfied: idna<4,>=2.5 in /Users/Endeavour/Library/Python/3.9/lib/python/site-packages (from requests<3,>=2.24.0->ydata-profiling==4.10.0->-r /Users/Endeavour/Code/customer-churn-predictor/customer-churn-predictor/requirements.txt (line 4)) (3.8)\n",
            "Requirement already satisfied: urllib3<3,>=1.21.1 in /Users/Endeavour/Library/Python/3.9/lib/python/site-packages (from requests<3,>=2.24.0->ydata-profiling==4.10.0->-r /Users/Endeavour/Code/customer-churn-predictor/customer-churn-predictor/requirements.txt (line 4)) (2.2.2)\n",
            "Requirement already satisfied: certifi>=2017.4.17 in /Users/Endeavour/Library/Python/3.9/lib/python/site-packages (from requests<3,>=2.24.0->ydata-profiling==4.10.0->-r /Users/Endeavour/Code/customer-churn-predictor/customer-churn-predictor/requirements.txt (line 4)) (2024.8.30)\n",
            "Requirement already satisfied: importlib-metadata>=3.6 in /Users/Endeavour/Library/Python/3.9/lib/python/site-packages (from typeguard<5,>=3->ydata-profiling==4.10.0->-r /Users/Endeavour/Code/customer-churn-predictor/customer-churn-predictor/requirements.txt (line 4)) (8.4.0)\n",
            "Requirement already satisfied: networkx>=2.4 in /Users/Endeavour/Library/Python/3.9/lib/python/site-packages (from visions<0.7.7,>=0.7.5->visions[type_image_path]<0.7.7,>=0.7.5->ydata-profiling==4.10.0->-r /Users/Endeavour/Code/customer-churn-predictor/customer-churn-predictor/requirements.txt (line 4)) (3.2.1)\n",
            "Requirement already satisfied: tangled-up-in-unicode>=0.0.4 in /Users/Endeavour/Library/Python/3.9/lib/python/site-packages (from visions<0.7.7,>=0.7.5->visions[type_image_path]<0.7.7,>=0.7.5->ydata-profiling==4.10.0->-r /Users/Endeavour/Code/customer-churn-predictor/customer-churn-predictor/requirements.txt (line 4)) (0.2.0)\n",
            "Requirement already satisfied: parso<0.9.0,>=0.8.3 in /Users/Endeavour/Library/Python/3.9/lib/python/site-packages (from jedi>=0.16->ipython>=6.1.0->ipywidgets==8.1.0->-r /Users/Endeavour/Code/customer-churn-predictor/customer-churn-predictor/requirements.txt (line 14)) (0.8.4)\n",
            "Requirement already satisfied: ptyprocess>=0.5 in /Users/Endeavour/Library/Python/3.9/lib/python/site-packages (from pexpect>4.3->ipython>=6.1.0->ipywidgets==8.1.0->-r /Users/Endeavour/Code/customer-churn-predictor/customer-churn-predictor/requirements.txt (line 14)) (0.7.0)\n",
            "Requirement already satisfied: wcwidth in /Users/Endeavour/Library/Python/3.9/lib/python/site-packages (from prompt-toolkit<3.1.0,>=3.0.41->ipython>=6.1.0->ipywidgets==8.1.0->-r /Users/Endeavour/Code/customer-churn-predictor/customer-churn-predictor/requirements.txt (line 14)) (0.2.13)\n",
            "Requirement already satisfied: executing>=1.2.0 in /Users/Endeavour/Library/Python/3.9/lib/python/site-packages (from stack-data->ipython>=6.1.0->ipywidgets==8.1.0->-r /Users/Endeavour/Code/customer-churn-predictor/customer-churn-predictor/requirements.txt (line 14)) (2.1.0)\n",
            "Requirement already satisfied: asttokens>=2.1.0 in /Users/Endeavour/Library/Python/3.9/lib/python/site-packages (from stack-data->ipython>=6.1.0->ipywidgets==8.1.0->-r /Users/Endeavour/Code/customer-churn-predictor/customer-churn-predictor/requirements.txt (line 14)) (2.4.1)\n",
            "Requirement already satisfied: pure-eval in /Users/Endeavour/Library/Python/3.9/lib/python/site-packages (from stack-data->ipython>=6.1.0->ipywidgets==8.1.0->-r /Users/Endeavour/Code/customer-churn-predictor/customer-churn-predictor/requirements.txt (line 14)) (0.2.3)\n",
            "Using cached nbformat-5.10.4-py3-none-any.whl (78 kB)\n",
            "Using cached fastjsonschema-2.20.0-py3-none-any.whl (23 kB)\n",
            "Installing collected packages: fastjsonschema, nbformat\n",
            "Successfully installed fastjsonschema-2.20.0 nbformat-5.10.4\n",
            "Note: you may need to restart the kernel to use updated packages.\n"
          ]
        }
      ],
      "source": [
        "%pip install -r /Users/Endeavour/Code/customer-churn-predictor/customer-churn-predictor/requirements.txt"
      ]
    },
    {
      "cell_type": "code",
      "execution_count": 2,
      "metadata": {},
      "outputs": [
        {
          "name": "stdout",
          "output_type": "stream",
          "text": [
            "Defaulting to user installation because normal site-packages is not writeable\n",
            "Requirement already satisfied: matplotlib in /Users/Endeavour/Library/Python/3.9/lib/python/site-packages (3.9.2)\n",
            "Note: you may need to restart the kernel to use updated packages.\n",
            "Defaulting to user installation because normal site-packages is not writeable\n",
            "Requirement already satisfied: streamlit in /Users/Endeavour/Library/Python/3.9/lib/python/site-packages (1.38.0)\n",
            "Note: you may need to restart the kernel to use updated packages.\n"
          ]
        }
      ],
      "source": [
        "%pip install matplotlib --no-deps\n",
        "%pip install streamlit --no-deps"
      ]
    },
    {
      "cell_type": "markdown",
      "metadata": {
        "id": "cqP-UeN-z3i2"
      },
      "source": [
        "# Change Working Directory"
      ]
    },
    {
      "cell_type": "code",
      "execution_count": 24,
      "metadata": {
        "id": "wZfF_j-Bz3i4"
      },
      "outputs": [
        {
          "data": {
            "text/plain": [
              "'/Users/Endeavour/Code/customer-churn-predictor'"
            ]
          },
          "execution_count": 24,
          "metadata": {},
          "output_type": "execute_result"
        }
      ],
      "source": [
        "import os\n",
        "current_dir = os.getcwd()\n",
        "current_dir"
      ]
    },
    {
      "cell_type": "markdown",
      "metadata": {
        "id": "9MWW8E7lz3i7"
      },
      "source": [
        "Set the parent of the current directory as the new current directory.\n",
        "* os.path.dirname() gets the parent directory\n",
        "* os.chir() defines the new current directory"
      ]
    },
    {
      "cell_type": "code",
      "execution_count": 25,
      "metadata": {
        "id": "TwHsQRWjz3i9"
      },
      "outputs": [
        {
          "name": "stdout",
          "output_type": "stream",
          "text": [
            "You set a new current directory\n"
          ]
        }
      ],
      "source": [
        "os.chdir(os.path.dirname(current_dir))\n",
        "print(\"You set a new current directory\")"
      ]
    },
    {
      "cell_type": "markdown",
      "metadata": {
        "id": "M_xPk_Ijz3i-"
      },
      "source": [
        "Confirm the new current directory"
      ]
    },
    {
      "cell_type": "code",
      "execution_count": 26,
      "metadata": {
        "id": "vz3S-_kjz3jA"
      },
      "outputs": [
        {
          "data": {
            "text/plain": [
              "'/Users/Endeavour/Code'"
            ]
          },
          "execution_count": 26,
          "metadata": {},
          "output_type": "execute_result"
        }
      ],
      "source": [
        "current_dir = os.getcwd()\n",
        "current_dir"
      ]
    },
    {
      "cell_type": "markdown",
      "metadata": {
        "id": "-mavJ8DibrcQ"
      },
      "source": [
        "# Download Dataset"
      ]
    },
    {
      "cell_type": "code",
      "execution_count": 12,
      "metadata": {
        "id": "Xk7DU_ekbtX8"
      },
      "outputs": [
        {
          "name": "stdout",
          "output_type": "stream",
          "text": [
            "Defaulting to user installation because normal site-packages is not writeable\n",
            "Collecting kaggle==1.5.12\n",
            "  Downloading kaggle-1.5.12.tar.gz (58 kB)\n",
            "  Preparing metadata (setup.py) ... \u001b[?25ldone\n",
            "\u001b[?25hRequirement already satisfied: six>=1.10 in /Library/Developer/CommandLineTools/Library/Frameworks/Python3.framework/Versions/3.9/lib/python3.9/site-packages (from kaggle==1.5.12) (1.15.0)\n",
            "Collecting certifi (from kaggle==1.5.12)\n",
            "  Downloading certifi-2024.8.30-py3-none-any.whl.metadata (2.2 kB)\n",
            "Requirement already satisfied: python-dateutil in /Users/Endeavour/Library/Python/3.9/lib/python/site-packages (from kaggle==1.5.12) (2.9.0.post0)\n",
            "Collecting requests (from kaggle==1.5.12)\n",
            "  Downloading requests-2.32.3-py3-none-any.whl.metadata (4.6 kB)\n",
            "Collecting tqdm (from kaggle==1.5.12)\n",
            "  Downloading tqdm-4.66.5-py3-none-any.whl.metadata (57 kB)\n",
            "Collecting python-slugify (from kaggle==1.5.12)\n",
            "  Downloading python_slugify-8.0.4-py2.py3-none-any.whl.metadata (8.5 kB)\n",
            "Collecting urllib3 (from kaggle==1.5.12)\n",
            "  Downloading urllib3-2.2.2-py3-none-any.whl.metadata (6.4 kB)\n",
            "Collecting text-unidecode>=1.3 (from python-slugify->kaggle==1.5.12)\n",
            "  Downloading text_unidecode-1.3-py2.py3-none-any.whl.metadata (2.4 kB)\n",
            "Collecting charset-normalizer<4,>=2 (from requests->kaggle==1.5.12)\n",
            "  Downloading charset_normalizer-3.3.2-cp39-cp39-macosx_11_0_arm64.whl.metadata (33 kB)\n",
            "Collecting idna<4,>=2.5 (from requests->kaggle==1.5.12)\n",
            "  Downloading idna-3.8-py3-none-any.whl.metadata (9.9 kB)\n",
            "Downloading certifi-2024.8.30-py3-none-any.whl (167 kB)\n",
            "Downloading python_slugify-8.0.4-py2.py3-none-any.whl (10 kB)\n",
            "Downloading requests-2.32.3-py3-none-any.whl (64 kB)\n",
            "Downloading urllib3-2.2.2-py3-none-any.whl (121 kB)\n",
            "Downloading tqdm-4.66.5-py3-none-any.whl (78 kB)\n",
            "Downloading charset_normalizer-3.3.2-cp39-cp39-macosx_11_0_arm64.whl (120 kB)\n",
            "Downloading idna-3.8-py3-none-any.whl (66 kB)\n",
            "Downloading text_unidecode-1.3-py2.py3-none-any.whl (78 kB)\n",
            "Building wheels for collected packages: kaggle\n",
            "  Building wheel for kaggle (setup.py) ... \u001b[?25ldone\n",
            "\u001b[?25h  Created wheel for kaggle: filename=kaggle-1.5.12-py3-none-any.whl size=73051 sha256=167608ff3555dda0be936751c4183592512ac611c829a1d62a2cda6501055cf6\n",
            "  Stored in directory: /Users/Endeavour/Library/Caches/pip/wheels/ac/b2/c3/fa4706d469b5879105991d1c8be9a3c2ef329ba9fe2ce5085e\n",
            "Successfully built kaggle\n",
            "Installing collected packages: text-unidecode, urllib3, tqdm, python-slugify, idna, charset-normalizer, certifi, requests, kaggle\n",
            "Successfully installed certifi-2024.8.30 charset-normalizer-3.3.2 idna-3.8 kaggle-1.5.12 python-slugify-8.0.4 requests-2.32.3 text-unidecode-1.3 tqdm-4.66.5 urllib3-2.2.2\n",
            "Note: you may need to restart the kernel to use updated packages.\n"
          ]
        }
      ],
      "source": [
        "%pip install kaggle==1.5.12"
      ]
    },
    {
      "cell_type": "code",
      "execution_count": 27,
      "metadata": {
        "id": "LVlh18YgbyEg"
      },
      "outputs": [
        {
          "name": "stdout",
          "output_type": "stream",
          "text": [
            "chmod: kaggle.json: No such file or directory\n"
          ]
        }
      ],
      "source": [
        "import os\n",
        "os.environ['KAGGLE_CONFIG_DIR'] = os.getcwd()\n",
        "! chmod 600 kaggle.json"
      ]
    },
    {
      "cell_type": "markdown",
      "metadata": {
        "id": "ySAC0yIkNJm4"
      },
      "source": [
        "Download and assign the dataset a path."
      ]
    },
    {
      "cell_type": "code",
      "execution_count": 14,
      "metadata": {
        "id": "Rc45oPyntryo"
      },
      "outputs": [
        {
          "name": "stdout",
          "output_type": "stream",
          "text": [
            "/Users/Endeavour/Library/Python/3.9/lib/python/site-packages/urllib3/__init__.py:35: NotOpenSSLWarning: urllib3 v2 only supports OpenSSL 1.1.1+, currently the 'ssl' module is compiled with 'LibreSSL 2.8.3'. See: https://github.com/urllib3/urllib3/issues/3020\n",
            "  warnings.warn(\n",
            "Downloading telecom-churn-dataset.zip to inputs/datasets/raw\n",
            "100%|█████████████████████████████████████████| 172k/172k [00:00<00:00, 837kB/s]\n",
            "100%|█████████████████████████████████████████| 172k/172k [00:00<00:00, 824kB/s]\n"
          ]
        }
      ],
      "source": [
        "KaggleDatasetPath = \"gyanshashwat1611/telecom-churn-dataset\"\n",
        "DestinationFolder = \"inputs/datasets/raw\"   \n",
        "! kaggle datasets download -d {KaggleDatasetPath} -p {DestinationFolder}"
      ]
    },
    {
      "cell_type": "markdown",
      "metadata": {
        "id": "ji0ry2Gotryo"
      },
      "source": [
        "Unzip the downloaded file, delete the zip file and delete the kaggle.json file"
      ]
    },
    {
      "cell_type": "code",
      "execution_count": 15,
      "metadata": {
        "id": "bxYIDRGLtryp"
      },
      "outputs": [
        {
          "name": "stdout",
          "output_type": "stream",
          "text": [
            "Archive:  inputs/datasets/raw/telecom-churn-dataset.zip\n",
            "  inflating: inputs/datasets/raw/WA_Fn-UseC_-Telco-Customer-Churn.csv  \n"
          ]
        }
      ],
      "source": [
        "! unzip {DestinationFolder}/*.zip -d {DestinationFolder} \\\n",
        "  && rm {DestinationFolder}/*.zip \\\n",
        "  && rm kaggle.json"
      ]
    },
    {
      "cell_type": "markdown",
      "metadata": {
        "id": "ZY3l0-AxO93d"
      },
      "source": [
        "---"
      ]
    },
    {
      "cell_type": "markdown",
      "metadata": {
        "id": "uFQo3ycuO-v6"
      },
      "source": [
        "# Load and Inspect Data"
      ]
    },
    {
      "cell_type": "code",
      "execution_count": 29,
      "metadata": {
        "id": "CjEM52Z1YLRP"
      },
      "outputs": [
        {
          "data": {
            "text/html": [
              "<div>\n",
              "<style scoped>\n",
              "    .dataframe tbody tr th:only-of-type {\n",
              "        vertical-align: middle;\n",
              "    }\n",
              "\n",
              "    .dataframe tbody tr th {\n",
              "        vertical-align: top;\n",
              "    }\n",
              "\n",
              "    .dataframe thead th {\n",
              "        text-align: right;\n",
              "    }\n",
              "</style>\n",
              "<table border=\"1\" class=\"dataframe\">\n",
              "  <thead>\n",
              "    <tr style=\"text-align: right;\">\n",
              "      <th></th>\n",
              "      <th>customerID</th>\n",
              "      <th>gender</th>\n",
              "      <th>SeniorCitizen</th>\n",
              "      <th>Partner</th>\n",
              "      <th>Dependents</th>\n",
              "      <th>tenure</th>\n",
              "      <th>PhoneService</th>\n",
              "      <th>MultipleLines</th>\n",
              "      <th>InternetService</th>\n",
              "      <th>OnlineSecurity</th>\n",
              "      <th>...</th>\n",
              "      <th>DeviceProtection</th>\n",
              "      <th>TechSupport</th>\n",
              "      <th>StreamingTV</th>\n",
              "      <th>StreamingMovies</th>\n",
              "      <th>Contract</th>\n",
              "      <th>PaperlessBilling</th>\n",
              "      <th>PaymentMethod</th>\n",
              "      <th>MonthlyCharges</th>\n",
              "      <th>TotalCharges</th>\n",
              "      <th>Churn</th>\n",
              "    </tr>\n",
              "  </thead>\n",
              "  <tbody>\n",
              "    <tr>\n",
              "      <th>0</th>\n",
              "      <td>7590-VHVEG</td>\n",
              "      <td>Female</td>\n",
              "      <td>0</td>\n",
              "      <td>Yes</td>\n",
              "      <td>No</td>\n",
              "      <td>1</td>\n",
              "      <td>No</td>\n",
              "      <td>No phone service</td>\n",
              "      <td>DSL</td>\n",
              "      <td>No</td>\n",
              "      <td>...</td>\n",
              "      <td>No</td>\n",
              "      <td>No</td>\n",
              "      <td>No</td>\n",
              "      <td>No</td>\n",
              "      <td>Month-to-month</td>\n",
              "      <td>Yes</td>\n",
              "      <td>Electronic check</td>\n",
              "      <td>29.85</td>\n",
              "      <td>29.85</td>\n",
              "      <td>No</td>\n",
              "    </tr>\n",
              "    <tr>\n",
              "      <th>1</th>\n",
              "      <td>5575-GNVDE</td>\n",
              "      <td>Male</td>\n",
              "      <td>0</td>\n",
              "      <td>No</td>\n",
              "      <td>No</td>\n",
              "      <td>34</td>\n",
              "      <td>Yes</td>\n",
              "      <td>No</td>\n",
              "      <td>DSL</td>\n",
              "      <td>Yes</td>\n",
              "      <td>...</td>\n",
              "      <td>Yes</td>\n",
              "      <td>No</td>\n",
              "      <td>No</td>\n",
              "      <td>No</td>\n",
              "      <td>One year</td>\n",
              "      <td>No</td>\n",
              "      <td>Mailed check</td>\n",
              "      <td>56.95</td>\n",
              "      <td>1889.5</td>\n",
              "      <td>No</td>\n",
              "    </tr>\n",
              "    <tr>\n",
              "      <th>2</th>\n",
              "      <td>3668-QPYBK</td>\n",
              "      <td>Male</td>\n",
              "      <td>0</td>\n",
              "      <td>No</td>\n",
              "      <td>No</td>\n",
              "      <td>2</td>\n",
              "      <td>Yes</td>\n",
              "      <td>No</td>\n",
              "      <td>DSL</td>\n",
              "      <td>Yes</td>\n",
              "      <td>...</td>\n",
              "      <td>No</td>\n",
              "      <td>No</td>\n",
              "      <td>No</td>\n",
              "      <td>No</td>\n",
              "      <td>Month-to-month</td>\n",
              "      <td>Yes</td>\n",
              "      <td>Mailed check</td>\n",
              "      <td>53.85</td>\n",
              "      <td>108.15</td>\n",
              "      <td>Yes</td>\n",
              "    </tr>\n",
              "    <tr>\n",
              "      <th>3</th>\n",
              "      <td>7795-CFOCW</td>\n",
              "      <td>Male</td>\n",
              "      <td>0</td>\n",
              "      <td>No</td>\n",
              "      <td>No</td>\n",
              "      <td>45</td>\n",
              "      <td>No</td>\n",
              "      <td>No phone service</td>\n",
              "      <td>DSL</td>\n",
              "      <td>Yes</td>\n",
              "      <td>...</td>\n",
              "      <td>Yes</td>\n",
              "      <td>Yes</td>\n",
              "      <td>No</td>\n",
              "      <td>No</td>\n",
              "      <td>One year</td>\n",
              "      <td>No</td>\n",
              "      <td>Bank transfer (automatic)</td>\n",
              "      <td>42.30</td>\n",
              "      <td>1840.75</td>\n",
              "      <td>No</td>\n",
              "    </tr>\n",
              "    <tr>\n",
              "      <th>4</th>\n",
              "      <td>9237-HQITU</td>\n",
              "      <td>Female</td>\n",
              "      <td>0</td>\n",
              "      <td>No</td>\n",
              "      <td>No</td>\n",
              "      <td>2</td>\n",
              "      <td>Yes</td>\n",
              "      <td>No</td>\n",
              "      <td>Fiber optic</td>\n",
              "      <td>No</td>\n",
              "      <td>...</td>\n",
              "      <td>No</td>\n",
              "      <td>No</td>\n",
              "      <td>No</td>\n",
              "      <td>No</td>\n",
              "      <td>Month-to-month</td>\n",
              "      <td>Yes</td>\n",
              "      <td>Electronic check</td>\n",
              "      <td>70.70</td>\n",
              "      <td>151.65</td>\n",
              "      <td>Yes</td>\n",
              "    </tr>\n",
              "  </tbody>\n",
              "</table>\n",
              "<p>5 rows × 21 columns</p>\n",
              "</div>"
            ],
            "text/plain": [
              "   customerID  gender  SeniorCitizen Partner Dependents  tenure PhoneService  \\\n",
              "0  7590-VHVEG  Female              0     Yes         No       1           No   \n",
              "1  5575-GNVDE    Male              0      No         No      34          Yes   \n",
              "2  3668-QPYBK    Male              0      No         No       2          Yes   \n",
              "3  7795-CFOCW    Male              0      No         No      45           No   \n",
              "4  9237-HQITU  Female              0      No         No       2          Yes   \n",
              "\n",
              "      MultipleLines InternetService OnlineSecurity  ... DeviceProtection  \\\n",
              "0  No phone service             DSL             No  ...               No   \n",
              "1                No             DSL            Yes  ...              Yes   \n",
              "2                No             DSL            Yes  ...               No   \n",
              "3  No phone service             DSL            Yes  ...              Yes   \n",
              "4                No     Fiber optic             No  ...               No   \n",
              "\n",
              "  TechSupport StreamingTV StreamingMovies        Contract PaperlessBilling  \\\n",
              "0          No          No              No  Month-to-month              Yes   \n",
              "1          No          No              No        One year               No   \n",
              "2          No          No              No  Month-to-month              Yes   \n",
              "3         Yes          No              No        One year               No   \n",
              "4          No          No              No  Month-to-month              Yes   \n",
              "\n",
              "               PaymentMethod MonthlyCharges  TotalCharges Churn  \n",
              "0           Electronic check          29.85         29.85    No  \n",
              "1               Mailed check          56.95        1889.5    No  \n",
              "2               Mailed check          53.85        108.15   Yes  \n",
              "3  Bank transfer (automatic)          42.30       1840.75    No  \n",
              "4           Electronic check          70.70        151.65   Yes  \n",
              "\n",
              "[5 rows x 21 columns]"
            ]
          },
          "execution_count": 29,
          "metadata": {},
          "output_type": "execute_result"
        }
      ],
      "source": [
        "import pandas as pd\n",
        "df = pd.read_csv(f\"/Users/Endeavour/Code/customer-churn-predictor/inputs/datasets/raw/WA_Fn-UseC_-Telco-Customer-Churn.csv\")\n",
        "df.head()"
      ]
    },
    {
      "cell_type": "markdown",
      "metadata": {
        "id": "cKG2pKb3hmY4"
      },
      "source": [
        "**DataFrame Summary:**"
      ]
    },
    {
      "cell_type": "code",
      "execution_count": 30,
      "metadata": {
        "id": "YtKKWuPhg7r8"
      },
      "outputs": [
        {
          "name": "stdout",
          "output_type": "stream",
          "text": [
            "<class 'pandas.core.frame.DataFrame'>\n",
            "RangeIndex: 7043 entries, 0 to 7042\n",
            "Data columns (total 21 columns):\n",
            " #   Column            Non-Null Count  Dtype  \n",
            "---  ------            --------------  -----  \n",
            " 0   customerID        7043 non-null   object \n",
            " 1   gender            7043 non-null   object \n",
            " 2   SeniorCitizen     7043 non-null   int64  \n",
            " 3   Partner           7043 non-null   object \n",
            " 4   Dependents        7043 non-null   object \n",
            " 5   tenure            7043 non-null   int64  \n",
            " 6   PhoneService      7043 non-null   object \n",
            " 7   MultipleLines     7043 non-null   object \n",
            " 8   InternetService   7043 non-null   object \n",
            " 9   OnlineSecurity    7043 non-null   object \n",
            " 10  OnlineBackup      7043 non-null   object \n",
            " 11  DeviceProtection  7043 non-null   object \n",
            " 12  TechSupport       7043 non-null   object \n",
            " 13  StreamingTV       7043 non-null   object \n",
            " 14  StreamingMovies   7043 non-null   object \n",
            " 15  Contract          7043 non-null   object \n",
            " 16  PaperlessBilling  7043 non-null   object \n",
            " 17  PaymentMethod     7043 non-null   object \n",
            " 18  MonthlyCharges    7043 non-null   float64\n",
            " 19  TotalCharges      7043 non-null   object \n",
            " 20  Churn             7043 non-null   object \n",
            "dtypes: float64(1), int64(2), object(18)\n",
            "memory usage: 1.1+ MB\n"
          ]
        }
      ],
      "source": [
        "df.info()"
      ]
    },
    {
      "cell_type": "markdown",
      "metadata": {
        "id": "hcB2YJiOH4pm"
      },
      "source": [
        "Confirm if there are duplicated `customerID`:"
      ]
    },
    {
      "cell_type": "code",
      "execution_count": 31,
      "metadata": {
        "id": "3om7yFYAH1vl"
      },
      "outputs": [
        {
          "data": {
            "text/html": [
              "<div>\n",
              "<style scoped>\n",
              "    .dataframe tbody tr th:only-of-type {\n",
              "        vertical-align: middle;\n",
              "    }\n",
              "\n",
              "    .dataframe tbody tr th {\n",
              "        vertical-align: top;\n",
              "    }\n",
              "\n",
              "    .dataframe thead th {\n",
              "        text-align: right;\n",
              "    }\n",
              "</style>\n",
              "<table border=\"1\" class=\"dataframe\">\n",
              "  <thead>\n",
              "    <tr style=\"text-align: right;\">\n",
              "      <th></th>\n",
              "      <th>customerID</th>\n",
              "      <th>gender</th>\n",
              "      <th>SeniorCitizen</th>\n",
              "      <th>Partner</th>\n",
              "      <th>Dependents</th>\n",
              "      <th>tenure</th>\n",
              "      <th>PhoneService</th>\n",
              "      <th>MultipleLines</th>\n",
              "      <th>InternetService</th>\n",
              "      <th>OnlineSecurity</th>\n",
              "      <th>...</th>\n",
              "      <th>DeviceProtection</th>\n",
              "      <th>TechSupport</th>\n",
              "      <th>StreamingTV</th>\n",
              "      <th>StreamingMovies</th>\n",
              "      <th>Contract</th>\n",
              "      <th>PaperlessBilling</th>\n",
              "      <th>PaymentMethod</th>\n",
              "      <th>MonthlyCharges</th>\n",
              "      <th>TotalCharges</th>\n",
              "      <th>Churn</th>\n",
              "    </tr>\n",
              "  </thead>\n",
              "  <tbody>\n",
              "  </tbody>\n",
              "</table>\n",
              "<p>0 rows × 21 columns</p>\n",
              "</div>"
            ],
            "text/plain": [
              "Empty DataFrame\n",
              "Columns: [customerID, gender, SeniorCitizen, Partner, Dependents, tenure, PhoneService, MultipleLines, InternetService, OnlineSecurity, OnlineBackup, DeviceProtection, TechSupport, StreamingTV, StreamingMovies, Contract, PaperlessBilling, PaymentMethod, MonthlyCharges, TotalCharges, Churn]\n",
              "Index: []\n",
              "\n",
              "[0 rows x 21 columns]"
            ]
          },
          "execution_count": 31,
          "metadata": {},
          "output_type": "execute_result"
        }
      ],
      "source": [
        "df[df.duplicated(subset=['customerID'])]"
      ]
    },
    {
      "cell_type": "markdown",
      "metadata": {
        "id": "tkbvvaiRk3e8"
      },
      "source": [
        "Converting `TotalCharges` to numeric"
      ]
    },
    {
      "cell_type": "code",
      "execution_count": 32,
      "metadata": {
        "id": "FRqGWi0Uk27X"
      },
      "outputs": [],
      "source": [
        "df['TotalCharges'] = pd.to_numeric(df['TotalCharges'] ,errors='coerce')"
      ]
    },
    {
      "cell_type": "markdown",
      "metadata": {
        "id": "VBW35xd1hZSY"
      },
      "source": [
        "Check `TotalCharges` data type"
      ]
    },
    {
      "cell_type": "code",
      "execution_count": 33,
      "metadata": {
        "id": "fJvKpZQDhQc3"
      },
      "outputs": [
        {
          "data": {
            "text/plain": [
              "dtype('float64')"
            ]
          },
          "execution_count": 33,
          "metadata": {},
          "output_type": "execute_result"
        }
      ],
      "source": [
        "df['TotalCharges'].dtype"
      ]
    },
    {
      "cell_type": "markdown",
      "metadata": {
        "id": "HaObnZm0x8od"
      },
      "source": [
        "Currently, `Churn` is a categorical variable: Yes or No. We will replace/convert it to an integer as the ML model requires numeric variables. "
      ]
    },
    {
      "cell_type": "code",
      "execution_count": 34,
      "metadata": {
        "id": "9ivG1m2Ntryw"
      },
      "outputs": [
        {
          "data": {
            "text/plain": [
              "array(['No', 'Yes'], dtype=object)"
            ]
          },
          "execution_count": 34,
          "metadata": {},
          "output_type": "execute_result"
        }
      ],
      "source": [
        "df['Churn'].unique()"
      ]
    },
    {
      "cell_type": "code",
      "execution_count": 35,
      "metadata": {
        "id": "AX5SeWxpxg8z"
      },
      "outputs": [],
      "source": [
        "df['Churn'] = df['Churn'].replace({\"Yes\":1, \"No\":0})"
      ]
    },
    {
      "cell_type": "markdown",
      "metadata": {
        "id": "vbo03aCPyKu-"
      },
      "source": [
        "Check the `Churn` data type."
      ]
    },
    {
      "cell_type": "code",
      "execution_count": 36,
      "metadata": {
        "id": "W6vlA0ZxyHeO"
      },
      "outputs": [
        {
          "data": {
            "text/plain": [
              "dtype('int64')"
            ]
          },
          "execution_count": 36,
          "metadata": {},
          "output_type": "execute_result"
        }
      ],
      "source": [
        "df['Churn'].dtype"
      ]
    },
    {
      "cell_type": "markdown",
      "metadata": {
        "id": "ltNetd085qHf"
      },
      "source": [
        "# Push files to Repo"
      ]
    },
    {
      "cell_type": "code",
      "execution_count": 38,
      "metadata": {
        "id": "aKlnIozA4eQO"
      },
      "outputs": [
        {
          "name": "stdout",
          "output_type": "stream",
          "text": [
            "[Errno 17] File exists: '/Users/Endeavour/Code/customer-churn-predictor/outputs/datasets/collection'\n"
          ]
        }
      ],
      "source": [
        "import os\n",
        "try:\n",
        "  os.makedirs(name='/Users/Endeavour/Code/customer-churn-predictor/outputs/datasets/collection') # create outputs/datasets/collection folder\n",
        "except Exception as e:\n",
        "  print(e)\n",
        "\n",
        "df.to_csv(f\"/Users/Endeavour/Code/customer-churn-predictor/outputs/datasets/collection/TelcoCustomerChurn.csv\",index=False)"
      ]
    }
  ],
  "metadata": {
    "accelerator": "GPU",
    "colab": {
      "name": "Data Practitioner Jupyter Notebook.ipynb",
      "provenance": [],
      "toc_visible": true
    },
    "interpreter": {
      "hash": "8b8334dab9339717f727a1deaf837b322d7a41c20d15cc86be99a8e69ceec8ce"
    },
    "kernelspec": {
      "display_name": "Python 3.8.12 64-bit ('3.8.12': pyenv)",
      "name": "python3"
    },
    "language_info": {
      "codemirror_mode": {
        "name": "ipython",
        "version": 3
      },
      "file_extension": ".py",
      "mimetype": "text/x-python",
      "name": "python",
      "nbconvert_exporter": "python",
      "pygments_lexer": "ipython3",
      "version": "3.9.6"
    },
    "orig_nbformat": 2
  },
  "nbformat": 4,
  "nbformat_minor": 0
}
