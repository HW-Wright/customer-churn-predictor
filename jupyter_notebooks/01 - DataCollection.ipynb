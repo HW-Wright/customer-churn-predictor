{
  "cells": [
    {
      "cell_type": "markdown",
      "metadata": {
        "id": "0aStgWSO0E0E"
      },
      "source": [
        "# **Data Collection Notebook**"
      ]
    },
    {
      "cell_type": "markdown",
      "metadata": {
        "id": "1eLEkw5O0ECa"
      },
      "source": [
        "## Objectives\n",
        "\n",
        "* Fetch data from Kaggle and save it as raw data.\n",
        "* Inspect the data and save it under outputs/datasets/collection\n",
        "\n",
        "## Inputs\n",
        "\n",
        "*   Kaggle JSON file - the authentication token.\n",
        "\n",
        "## Outputs\n",
        "\n",
        "* Generate Dataset: outputs/datasets/collection/TelcoCustomerChurn.csv\n",
        "\n",
        "## Additional Comments\n",
        "\n",
        "\n",
        "* In the workplace, **projects are not done using Kaggle data**, but instead, the data comes from multiple data sources that may be hosted internally (like in a data warehouse) or outside your company. For this project learning context, we are fetching the data from Kaggle.\n",
        "\n",
        "* Another aspect is that in the workplace, the **data has never been pushed to a public repository** due to security reasons. Just for this project learning context, we are hosting the data in a public repo.\n"
      ]
    },
    {
      "cell_type": "markdown",
      "metadata": {
        "id": "9uWZXH9LwoQg"
      },
      "source": [
        "---"
      ]
    },
    {
      "attachments": {},
      "cell_type": "markdown",
      "metadata": {},
      "source": [
        "# Install python packages in the notebooks"
      ]
    },
    {
      "cell_type": "code",
      "execution_count": 22,
      "metadata": {},
      "outputs": [
        {
          "name": "stdout",
          "output_type": "stream",
          "text": [
            "Defaulting to user installation because normal site-packages is not writeable\n",
            "Collecting numpy==1.26.0 (from -r /Users/Endeavour/Code/customer-churn-predictor/requirements.txt (line 1))\n",
            "  Using cached numpy-1.26.0-cp39-cp39-macosx_11_0_arm64.whl.metadata (53 kB)\n",
            "Collecting pandas==1.4.2 (from -r /Users/Endeavour/Code/customer-churn-predictor/requirements.txt (line 2))\n",
            "  Using cached pandas-1.4.2-cp39-cp39-macosx_11_0_arm64.whl.metadata (12 kB)\n",
            "Collecting seaborn==0.12.2 (from -r /Users/Endeavour/Code/customer-churn-predictor/requirements.txt (line 3))\n",
            "  Using cached seaborn-0.12.2-py3-none-any.whl.metadata (5.4 kB)\n",
            "Collecting ydata-profiling==4.10.0 (from -r /Users/Endeavour/Code/customer-churn-predictor/requirements.txt (line 4))\n",
            "  Using cached ydata_profiling-4.10.0-py2.py3-none-any.whl.metadata (20 kB)\n",
            "Collecting plotly==5.15.0 (from -r /Users/Endeavour/Code/customer-churn-predictor/requirements.txt (line 5))\n",
            "  Using cached plotly-5.15.0-py2.py3-none-any.whl.metadata (7.0 kB)\n",
            "Collecting ppscore==1.3.0 (from -r /Users/Endeavour/Code/customer-churn-predictor/requirements.txt (line 6))\n",
            "  Using cached ppscore-1.3.0.tar.gz (17 kB)\n",
            "  Preparing metadata (setup.py) ... \u001b[?25ldone\n",
            "\u001b[?25hCollecting feature-engine==1.6.1 (from -r /Users/Endeavour/Code/customer-churn-predictor/requirements.txt (line 9))\n",
            "  Using cached feature_engine-1.6.1-py2.py3-none-any.whl.metadata (8.7 kB)\n",
            "Collecting imbalanced-learn==0.11.0 (from -r /Users/Endeavour/Code/customer-churn-predictor/requirements.txt (line 10))\n",
            "  Using cached imbalanced_learn-0.11.0-py3-none-any.whl.metadata (8.3 kB)\n",
            "Collecting scikit-learn==1.3.0 (from -r /Users/Endeavour/Code/customer-churn-predictor/requirements.txt (line 11))\n",
            "  Using cached scikit_learn-1.3.0-cp39-cp39-macosx_12_0_arm64.whl.metadata (11 kB)\n",
            "Collecting xgboost==1.7.6 (from -r /Users/Endeavour/Code/customer-churn-predictor/requirements.txt (line 12))\n",
            "  Using cached xgboost-1.7.6-py3-none-macosx_12_0_arm64.whl.metadata (1.9 kB)\n",
            "Collecting yellowbrick==1.5 (from -r /Users/Endeavour/Code/customer-churn-predictor/requirements.txt (line 13))\n",
            "  Using cached yellowbrick-1.5-py3-none-any.whl.metadata (7.7 kB)\n",
            "Collecting Jinja2==3.1.2 (from -r /Users/Endeavour/Code/customer-churn-predictor/requirements.txt (line 14))\n",
            "  Using cached Jinja2-3.1.2-py3-none-any.whl.metadata (3.5 kB)\n",
            "Collecting MarkupSafe==2.1.3 (from -r /Users/Endeavour/Code/customer-churn-predictor/requirements.txt (line 15))\n",
            "  Using cached MarkupSafe-2.1.3-cp39-cp39-macosx_10_9_universal2.whl.metadata (3.0 kB)\n",
            "Collecting protobuf==3.20 (from -r /Users/Endeavour/Code/customer-churn-predictor/requirements.txt (line 16))\n",
            "  Using cached protobuf-3.20.0-py2.py3-none-any.whl.metadata (720 bytes)\n",
            "Collecting ipywidgets==8.1.0 (from -r /Users/Endeavour/Code/customer-churn-predictor/requirements.txt (line 17))\n",
            "  Using cached ipywidgets-8.1.0-py3-none-any.whl.metadata (2.4 kB)\n",
            "Collecting altair<5 (from -r /Users/Endeavour/Code/customer-churn-predictor/requirements.txt (line 18))\n",
            "  Using cached altair-4.2.2-py3-none-any.whl.metadata (13 kB)\n",
            "Requirement already satisfied: python-dateutil>=2.8.1 in /Users/Endeavour/Library/Python/3.9/lib/python/site-packages (from pandas==1.4.2->-r /Users/Endeavour/Code/customer-churn-predictor/requirements.txt (line 2)) (2.9.0.post0)\n",
            "Collecting pytz>=2020.1 (from pandas==1.4.2->-r /Users/Endeavour/Code/customer-churn-predictor/requirements.txt (line 2))\n",
            "  Using cached pytz-2024.2-py2.py3-none-any.whl.metadata (22 kB)\n",
            "Collecting matplotlib!=3.6.1,>=3.1 (from seaborn==0.12.2->-r /Users/Endeavour/Code/customer-churn-predictor/requirements.txt (line 3))\n",
            "  Downloading matplotlib-3.9.2-cp39-cp39-macosx_11_0_arm64.whl.metadata (11 kB)\n",
            "Collecting scipy<1.14,>=1.4.1 (from ydata-profiling==4.10.0->-r /Users/Endeavour/Code/customer-churn-predictor/requirements.txt (line 4))\n",
            "  Using cached scipy-1.13.1-cp39-cp39-macosx_12_0_arm64.whl.metadata (60 kB)\n",
            "Collecting pydantic>=2 (from ydata-profiling==4.10.0->-r /Users/Endeavour/Code/customer-churn-predictor/requirements.txt (line 4))\n",
            "  Using cached pydantic-2.9.1-py3-none-any.whl.metadata (146 kB)\n",
            "Collecting PyYAML<6.1,>=5.0.0 (from ydata-profiling==4.10.0->-r /Users/Endeavour/Code/customer-churn-predictor/requirements.txt (line 4))\n",
            "  Using cached PyYAML-6.0.2-cp39-cp39-macosx_11_0_arm64.whl.metadata (2.1 kB)\n",
            "Collecting visions<0.7.7,>=0.7.5 (from visions[type_image_path]<0.7.7,>=0.7.5->ydata-profiling==4.10.0->-r /Users/Endeavour/Code/customer-churn-predictor/requirements.txt (line 4))\n",
            "  Using cached visions-0.7.6-py3-none-any.whl.metadata (11 kB)\n",
            "Collecting htmlmin==0.1.12 (from ydata-profiling==4.10.0->-r /Users/Endeavour/Code/customer-churn-predictor/requirements.txt (line 4))\n",
            "  Using cached htmlmin-0.1.12.tar.gz (19 kB)\n",
            "  Preparing metadata (setup.py) ... \u001b[?25ldone\n",
            "\u001b[?25hCollecting phik<0.13,>=0.11.1 (from ydata-profiling==4.10.0->-r /Users/Endeavour/Code/customer-churn-predictor/requirements.txt (line 4))\n",
            "  Downloading phik-0.12.4-cp39-cp39-macosx_11_0_arm64.whl.metadata (5.6 kB)\n",
            "Requirement already satisfied: requests<3,>=2.24.0 in /Users/Endeavour/Library/Python/3.9/lib/python/site-packages (from ydata-profiling==4.10.0->-r /Users/Endeavour/Code/customer-churn-predictor/requirements.txt (line 4)) (2.32.3)\n",
            "Requirement already satisfied: tqdm<5,>=4.48.2 in /Users/Endeavour/Library/Python/3.9/lib/python/site-packages (from ydata-profiling==4.10.0->-r /Users/Endeavour/Code/customer-churn-predictor/requirements.txt (line 4)) (4.66.5)\n",
            "Collecting multimethod<2,>=1.4 (from ydata-profiling==4.10.0->-r /Users/Endeavour/Code/customer-churn-predictor/requirements.txt (line 4))\n",
            "  Using cached multimethod-1.12-py3-none-any.whl.metadata (9.6 kB)\n",
            "Collecting statsmodels<1,>=0.13.2 (from ydata-profiling==4.10.0->-r /Users/Endeavour/Code/customer-churn-predictor/requirements.txt (line 4))\n",
            "  Downloading statsmodels-0.14.2-cp39-cp39-macosx_11_0_arm64.whl.metadata (9.2 kB)\n",
            "Collecting typeguard<5,>=3 (from ydata-profiling==4.10.0->-r /Users/Endeavour/Code/customer-churn-predictor/requirements.txt (line 4))\n",
            "  Using cached typeguard-4.3.0-py3-none-any.whl.metadata (3.7 kB)\n",
            "Collecting imagehash==4.3.1 (from ydata-profiling==4.10.0->-r /Users/Endeavour/Code/customer-churn-predictor/requirements.txt (line 4))\n",
            "  Using cached ImageHash-4.3.1-py2.py3-none-any.whl.metadata (8.0 kB)\n",
            "Collecting wordcloud>=1.9.3 (from ydata-profiling==4.10.0->-r /Users/Endeavour/Code/customer-churn-predictor/requirements.txt (line 4))\n",
            "  Downloading wordcloud-1.9.3-cp39-cp39-macosx_11_0_arm64.whl.metadata (3.4 kB)\n",
            "Collecting dacite>=1.8 (from ydata-profiling==4.10.0->-r /Users/Endeavour/Code/customer-churn-predictor/requirements.txt (line 4))\n",
            "  Using cached dacite-1.8.1-py3-none-any.whl.metadata (15 kB)\n",
            "Collecting numba<1,>=0.56.0 (from ydata-profiling==4.10.0->-r /Users/Endeavour/Code/customer-churn-predictor/requirements.txt (line 4))\n",
            "  Downloading numba-0.60.0-cp39-cp39-macosx_11_0_arm64.whl.metadata (2.7 kB)\n",
            "Collecting tenacity>=6.2.0 (from plotly==5.15.0->-r /Users/Endeavour/Code/customer-churn-predictor/requirements.txt (line 5))\n",
            "  Using cached tenacity-9.0.0-py3-none-any.whl.metadata (1.2 kB)\n",
            "Requirement already satisfied: packaging in /Users/Endeavour/Library/Python/3.9/lib/python/site-packages (from plotly==5.15.0->-r /Users/Endeavour/Code/customer-churn-predictor/requirements.txt (line 5)) (24.1)\n",
            "Collecting joblib>=1.1.1 (from imbalanced-learn==0.11.0->-r /Users/Endeavour/Code/customer-churn-predictor/requirements.txt (line 10))\n",
            "  Using cached joblib-1.4.2-py3-none-any.whl.metadata (5.4 kB)\n",
            "Collecting threadpoolctl>=2.0.0 (from imbalanced-learn==0.11.0->-r /Users/Endeavour/Code/customer-churn-predictor/requirements.txt (line 10))\n",
            "  Using cached threadpoolctl-3.5.0-py3-none-any.whl.metadata (13 kB)\n",
            "Collecting cycler>=0.10.0 (from yellowbrick==1.5->-r /Users/Endeavour/Code/customer-churn-predictor/requirements.txt (line 13))\n",
            "  Using cached cycler-0.12.1-py3-none-any.whl.metadata (3.8 kB)\n",
            "Requirement already satisfied: comm>=0.1.3 in /Users/Endeavour/Library/Python/3.9/lib/python/site-packages (from ipywidgets==8.1.0->-r /Users/Endeavour/Code/customer-churn-predictor/requirements.txt (line 17)) (0.2.2)\n",
            "Requirement already satisfied: ipython>=6.1.0 in /Users/Endeavour/Library/Python/3.9/lib/python/site-packages (from ipywidgets==8.1.0->-r /Users/Endeavour/Code/customer-churn-predictor/requirements.txt (line 17)) (8.18.1)\n",
            "Requirement already satisfied: traitlets>=4.3.1 in /Users/Endeavour/Library/Python/3.9/lib/python/site-packages (from ipywidgets==8.1.0->-r /Users/Endeavour/Code/customer-churn-predictor/requirements.txt (line 17)) (5.14.3)\n",
            "Collecting widgetsnbextension~=4.0.7 (from ipywidgets==8.1.0->-r /Users/Endeavour/Code/customer-churn-predictor/requirements.txt (line 17))\n",
            "  Using cached widgetsnbextension-4.0.13-py3-none-any.whl.metadata (1.6 kB)\n",
            "Collecting jupyterlab-widgets~=3.0.7 (from ipywidgets==8.1.0->-r /Users/Endeavour/Code/customer-churn-predictor/requirements.txt (line 17))\n",
            "  Using cached jupyterlab_widgets-3.0.13-py3-none-any.whl.metadata (4.1 kB)\n",
            "Collecting PyWavelets (from imagehash==4.3.1->ydata-profiling==4.10.0->-r /Users/Endeavour/Code/customer-churn-predictor/requirements.txt (line 4))\n",
            "  Downloading pywavelets-1.6.0-cp39-cp39-macosx_11_0_arm64.whl.metadata (9.0 kB)\n",
            "Collecting pillow (from imagehash==4.3.1->ydata-profiling==4.10.0->-r /Users/Endeavour/Code/customer-churn-predictor/requirements.txt (line 4))\n",
            "  Using cached pillow-10.4.0-cp39-cp39-macosx_11_0_arm64.whl.metadata (9.2 kB)\n",
            "Collecting entrypoints (from altair<5->-r /Users/Endeavour/Code/customer-churn-predictor/requirements.txt (line 18))\n",
            "  Using cached entrypoints-0.4-py3-none-any.whl.metadata (2.6 kB)\n",
            "Collecting jsonschema>=3.0 (from altair<5->-r /Users/Endeavour/Code/customer-churn-predictor/requirements.txt (line 18))\n",
            "  Using cached jsonschema-4.23.0-py3-none-any.whl.metadata (7.9 kB)\n",
            "Collecting toolz (from altair<5->-r /Users/Endeavour/Code/customer-churn-predictor/requirements.txt (line 18))\n",
            "  Using cached toolz-0.12.1-py3-none-any.whl.metadata (5.1 kB)\n",
            "Requirement already satisfied: decorator in /Users/Endeavour/Library/Python/3.9/lib/python/site-packages (from ipython>=6.1.0->ipywidgets==8.1.0->-r /Users/Endeavour/Code/customer-churn-predictor/requirements.txt (line 17)) (5.1.1)\n",
            "Requirement already satisfied: jedi>=0.16 in /Users/Endeavour/Library/Python/3.9/lib/python/site-packages (from ipython>=6.1.0->ipywidgets==8.1.0->-r /Users/Endeavour/Code/customer-churn-predictor/requirements.txt (line 17)) (0.19.1)\n",
            "Requirement already satisfied: matplotlib-inline in /Users/Endeavour/Library/Python/3.9/lib/python/site-packages (from ipython>=6.1.0->ipywidgets==8.1.0->-r /Users/Endeavour/Code/customer-churn-predictor/requirements.txt (line 17)) (0.1.7)\n",
            "Requirement already satisfied: prompt-toolkit<3.1.0,>=3.0.41 in /Users/Endeavour/Library/Python/3.9/lib/python/site-packages (from ipython>=6.1.0->ipywidgets==8.1.0->-r /Users/Endeavour/Code/customer-churn-predictor/requirements.txt (line 17)) (3.0.47)\n",
            "Requirement already satisfied: pygments>=2.4.0 in /Users/Endeavour/Library/Python/3.9/lib/python/site-packages (from ipython>=6.1.0->ipywidgets==8.1.0->-r /Users/Endeavour/Code/customer-churn-predictor/requirements.txt (line 17)) (2.18.0)\n",
            "Requirement already satisfied: stack-data in /Users/Endeavour/Library/Python/3.9/lib/python/site-packages (from ipython>=6.1.0->ipywidgets==8.1.0->-r /Users/Endeavour/Code/customer-churn-predictor/requirements.txt (line 17)) (0.6.3)\n",
            "Requirement already satisfied: typing-extensions in /Users/Endeavour/Library/Python/3.9/lib/python/site-packages (from ipython>=6.1.0->ipywidgets==8.1.0->-r /Users/Endeavour/Code/customer-churn-predictor/requirements.txt (line 17)) (4.12.2)\n",
            "Requirement already satisfied: exceptiongroup in /Users/Endeavour/Library/Python/3.9/lib/python/site-packages (from ipython>=6.1.0->ipywidgets==8.1.0->-r /Users/Endeavour/Code/customer-churn-predictor/requirements.txt (line 17)) (1.2.2)\n",
            "Requirement already satisfied: pexpect>4.3 in /Users/Endeavour/Library/Python/3.9/lib/python/site-packages (from ipython>=6.1.0->ipywidgets==8.1.0->-r /Users/Endeavour/Code/customer-churn-predictor/requirements.txt (line 17)) (4.9.0)\n",
            "Collecting attrs>=22.2.0 (from jsonschema>=3.0->altair<5->-r /Users/Endeavour/Code/customer-churn-predictor/requirements.txt (line 18))\n",
            "  Using cached attrs-24.2.0-py3-none-any.whl.metadata (11 kB)\n",
            "Collecting jsonschema-specifications>=2023.03.6 (from jsonschema>=3.0->altair<5->-r /Users/Endeavour/Code/customer-churn-predictor/requirements.txt (line 18))\n",
            "  Using cached jsonschema_specifications-2023.12.1-py3-none-any.whl.metadata (3.0 kB)\n",
            "Collecting referencing>=0.28.4 (from jsonschema>=3.0->altair<5->-r /Users/Endeavour/Code/customer-churn-predictor/requirements.txt (line 18))\n",
            "  Using cached referencing-0.35.1-py3-none-any.whl.metadata (2.8 kB)\n",
            "Collecting rpds-py>=0.7.1 (from jsonschema>=3.0->altair<5->-r /Users/Endeavour/Code/customer-churn-predictor/requirements.txt (line 18))\n",
            "  Downloading rpds_py-0.20.0-cp39-cp39-macosx_11_0_arm64.whl.metadata (4.2 kB)\n",
            "Collecting contourpy>=1.0.1 (from matplotlib!=3.6.1,>=3.1->seaborn==0.12.2->-r /Users/Endeavour/Code/customer-churn-predictor/requirements.txt (line 3))\n",
            "  Using cached contourpy-1.3.0-cp39-cp39-macosx_11_0_arm64.whl.metadata (5.4 kB)\n",
            "Collecting fonttools>=4.22.0 (from matplotlib!=3.6.1,>=3.1->seaborn==0.12.2->-r /Users/Endeavour/Code/customer-churn-predictor/requirements.txt (line 3))\n",
            "  Using cached fonttools-4.53.1-cp39-cp39-macosx_11_0_arm64.whl.metadata (162 kB)\n",
            "Collecting kiwisolver>=1.3.1 (from matplotlib!=3.6.1,>=3.1->seaborn==0.12.2->-r /Users/Endeavour/Code/customer-churn-predictor/requirements.txt (line 3))\n",
            "  Using cached kiwisolver-1.4.7-cp39-cp39-macosx_11_0_arm64.whl.metadata (6.3 kB)\n",
            "Collecting pyparsing>=2.3.1 (from matplotlib!=3.6.1,>=3.1->seaborn==0.12.2->-r /Users/Endeavour/Code/customer-churn-predictor/requirements.txt (line 3))\n",
            "  Using cached pyparsing-3.1.4-py3-none-any.whl.metadata (5.1 kB)\n",
            "Collecting importlib-resources>=3.2.0 (from matplotlib!=3.6.1,>=3.1->seaborn==0.12.2->-r /Users/Endeavour/Code/customer-churn-predictor/requirements.txt (line 3))\n",
            "  Using cached importlib_resources-6.4.5-py3-none-any.whl.metadata (4.0 kB)\n",
            "Collecting llvmlite<0.44,>=0.43.0dev0 (from numba<1,>=0.56.0->ydata-profiling==4.10.0->-r /Users/Endeavour/Code/customer-churn-predictor/requirements.txt (line 4))\n",
            "  Downloading llvmlite-0.43.0-cp39-cp39-macosx_11_0_arm64.whl.metadata (4.8 kB)\n",
            "Collecting annotated-types>=0.6.0 (from pydantic>=2->ydata-profiling==4.10.0->-r /Users/Endeavour/Code/customer-churn-predictor/requirements.txt (line 4))\n",
            "  Using cached annotated_types-0.7.0-py3-none-any.whl.metadata (15 kB)\n",
            "Collecting pydantic-core==2.23.3 (from pydantic>=2->ydata-profiling==4.10.0->-r /Users/Endeavour/Code/customer-churn-predictor/requirements.txt (line 4))\n",
            "  Downloading pydantic_core-2.23.3-cp39-cp39-macosx_11_0_arm64.whl.metadata (6.6 kB)\n",
            "Requirement already satisfied: six>=1.5 in /Library/Developer/CommandLineTools/Library/Frameworks/Python3.framework/Versions/3.9/lib/python3.9/site-packages (from python-dateutil>=2.8.1->pandas==1.4.2->-r /Users/Endeavour/Code/customer-churn-predictor/requirements.txt (line 2)) (1.15.0)\n",
            "Requirement already satisfied: charset-normalizer<4,>=2 in /Users/Endeavour/Library/Python/3.9/lib/python/site-packages (from requests<3,>=2.24.0->ydata-profiling==4.10.0->-r /Users/Endeavour/Code/customer-churn-predictor/requirements.txt (line 4)) (3.3.2)\n",
            "Requirement already satisfied: idna<4,>=2.5 in /Users/Endeavour/Library/Python/3.9/lib/python/site-packages (from requests<3,>=2.24.0->ydata-profiling==4.10.0->-r /Users/Endeavour/Code/customer-churn-predictor/requirements.txt (line 4)) (3.8)\n",
            "Requirement already satisfied: urllib3<3,>=1.21.1 in /Users/Endeavour/Library/Python/3.9/lib/python/site-packages (from requests<3,>=2.24.0->ydata-profiling==4.10.0->-r /Users/Endeavour/Code/customer-churn-predictor/requirements.txt (line 4)) (2.2.2)\n",
            "Requirement already satisfied: certifi>=2017.4.17 in /Users/Endeavour/Library/Python/3.9/lib/python/site-packages (from requests<3,>=2.24.0->ydata-profiling==4.10.0->-r /Users/Endeavour/Code/customer-churn-predictor/requirements.txt (line 4)) (2024.8.30)\n",
            "Collecting patsy>=0.5.6 (from statsmodels<1,>=0.13.2->ydata-profiling==4.10.0->-r /Users/Endeavour/Code/customer-churn-predictor/requirements.txt (line 4))\n",
            "  Using cached patsy-0.5.6-py2.py3-none-any.whl.metadata (3.5 kB)\n",
            "Requirement already satisfied: importlib-metadata>=3.6 in /Users/Endeavour/Library/Python/3.9/lib/python/site-packages (from typeguard<5,>=3->ydata-profiling==4.10.0->-r /Users/Endeavour/Code/customer-churn-predictor/requirements.txt (line 4)) (8.4.0)\n",
            "INFO: pip is looking at multiple versions of visions to determine which version is compatible with other requirements. This could take a while.\n",
            "Collecting visions<0.7.7,>=0.7.5 (from visions[type_image_path]<0.7.7,>=0.7.5->ydata-profiling==4.10.0->-r /Users/Endeavour/Code/customer-churn-predictor/requirements.txt (line 4))\n",
            "  Using cached visions-0.7.5-py3-none-any.whl.metadata (6.3 kB)\n",
            "Collecting networkx>=2.4 (from visions<0.7.7,>=0.7.5->visions[type_image_path]<0.7.7,>=0.7.5->ydata-profiling==4.10.0->-r /Users/Endeavour/Code/customer-churn-predictor/requirements.txt (line 4))\n",
            "  Downloading networkx-3.2.1-py3-none-any.whl.metadata (5.2 kB)\n",
            "Collecting tangled-up-in-unicode>=0.0.4 (from visions<0.7.7,>=0.7.5->visions[type_image_path]<0.7.7,>=0.7.5->ydata-profiling==4.10.0->-r /Users/Endeavour/Code/customer-churn-predictor/requirements.txt (line 4))\n",
            "  Using cached tangled_up_in_unicode-0.2.0-py3-none-any.whl.metadata (4.8 kB)\n",
            "INFO: pip is looking at multiple versions of visions[type-image-path] to determine which version is compatible with other requirements. This could take a while.\n",
            "Requirement already satisfied: zipp>=0.5 in /Users/Endeavour/Library/Python/3.9/lib/python/site-packages (from importlib-metadata>=3.6->typeguard<5,>=3->ydata-profiling==4.10.0->-r /Users/Endeavour/Code/customer-churn-predictor/requirements.txt (line 4)) (3.20.1)\n",
            "Requirement already satisfied: parso<0.9.0,>=0.8.3 in /Users/Endeavour/Library/Python/3.9/lib/python/site-packages (from jedi>=0.16->ipython>=6.1.0->ipywidgets==8.1.0->-r /Users/Endeavour/Code/customer-churn-predictor/requirements.txt (line 17)) (0.8.4)\n",
            "Requirement already satisfied: ptyprocess>=0.5 in /Users/Endeavour/Library/Python/3.9/lib/python/site-packages (from pexpect>4.3->ipython>=6.1.0->ipywidgets==8.1.0->-r /Users/Endeavour/Code/customer-churn-predictor/requirements.txt (line 17)) (0.7.0)\n",
            "Requirement already satisfied: wcwidth in /Users/Endeavour/Library/Python/3.9/lib/python/site-packages (from prompt-toolkit<3.1.0,>=3.0.41->ipython>=6.1.0->ipywidgets==8.1.0->-r /Users/Endeavour/Code/customer-churn-predictor/requirements.txt (line 17)) (0.2.13)\n",
            "Requirement already satisfied: executing>=1.2.0 in /Users/Endeavour/Library/Python/3.9/lib/python/site-packages (from stack-data->ipython>=6.1.0->ipywidgets==8.1.0->-r /Users/Endeavour/Code/customer-churn-predictor/requirements.txt (line 17)) (2.1.0)\n",
            "Requirement already satisfied: asttokens>=2.1.0 in /Users/Endeavour/Library/Python/3.9/lib/python/site-packages (from stack-data->ipython>=6.1.0->ipywidgets==8.1.0->-r /Users/Endeavour/Code/customer-churn-predictor/requirements.txt (line 17)) (2.4.1)\n",
            "Requirement already satisfied: pure-eval in /Users/Endeavour/Library/Python/3.9/lib/python/site-packages (from stack-data->ipython>=6.1.0->ipywidgets==8.1.0->-r /Users/Endeavour/Code/customer-churn-predictor/requirements.txt (line 17)) (0.2.3)\n",
            "Downloading numpy-1.26.0-cp39-cp39-macosx_11_0_arm64.whl (14.0 MB)\n",
            "\u001b[2K   \u001b[90m━━━━━━━━━━━━━━━━━━━━━━━━━━━━━━━━━━━━━━━━\u001b[0m \u001b[32m14.0/14.0 MB\u001b[0m \u001b[31m1.2 MB/s\u001b[0m eta \u001b[36m0:00:00\u001b[0m00:01\u001b[0m00:01\u001b[0mm\n",
            "\u001b[?25hDownloading pandas-1.4.2-cp39-cp39-macosx_11_0_arm64.whl (10.1 MB)\n",
            "\u001b[2K   \u001b[90m━━━━━━━━━━━━━━━━━━━━━━━━━━━━━━━━━━━━━━━━\u001b[0m \u001b[32m10.1/10.1 MB\u001b[0m \u001b[31m1.2 MB/s\u001b[0m eta \u001b[36m0:00:00\u001b[0m \u001b[36m0:00:01\u001b[0m\n",
            "\u001b[?25hUsing cached seaborn-0.12.2-py3-none-any.whl (293 kB)\n",
            "Using cached ydata_profiling-4.10.0-py2.py3-none-any.whl (356 kB)\n",
            "Using cached plotly-5.15.0-py2.py3-none-any.whl (15.5 MB)\n",
            "Using cached feature_engine-1.6.1-py2.py3-none-any.whl (326 kB)\n",
            "Using cached imbalanced_learn-0.11.0-py3-none-any.whl (235 kB)\n",
            "Downloading scikit_learn-1.3.0-cp39-cp39-macosx_12_0_arm64.whl (9.5 MB)\n",
            "\u001b[2K   \u001b[90m━━━━━━━━━━━━━━━━━━━━━━━━━━━━━━━━━━━━━━━━\u001b[0m \u001b[32m9.5/9.5 MB\u001b[0m \u001b[31m1.3 MB/s\u001b[0m eta \u001b[36m0:00:00\u001b[0ma \u001b[36m0:00:01\u001b[0m\n",
            "\u001b[?25hUsing cached xgboost-1.7.6-py3-none-macosx_12_0_arm64.whl (1.6 MB)\n",
            "Using cached yellowbrick-1.5-py3-none-any.whl (282 kB)\n",
            "Using cached Jinja2-3.1.2-py3-none-any.whl (133 kB)\n",
            "Downloading MarkupSafe-2.1.3-cp39-cp39-macosx_10_9_universal2.whl (17 kB)\n",
            "Using cached protobuf-3.20.0-py2.py3-none-any.whl (162 kB)\n",
            "Using cached ipywidgets-8.1.0-py3-none-any.whl (139 kB)\n",
            "Using cached ImageHash-4.3.1-py2.py3-none-any.whl (296 kB)\n",
            "Using cached altair-4.2.2-py3-none-any.whl (813 kB)\n",
            "Using cached cycler-0.12.1-py3-none-any.whl (8.3 kB)\n",
            "Using cached dacite-1.8.1-py3-none-any.whl (14 kB)\n",
            "Using cached joblib-1.4.2-py3-none-any.whl (301 kB)\n",
            "Using cached jsonschema-4.23.0-py3-none-any.whl (88 kB)\n",
            "Using cached jupyterlab_widgets-3.0.13-py3-none-any.whl (214 kB)\n",
            "Downloading matplotlib-3.9.2-cp39-cp39-macosx_11_0_arm64.whl (7.8 MB)\n",
            "\u001b[2K   \u001b[90m━━━━━━━━━━━━━━━━━━━━━━━━━━━━━━━━━━━━━━━━\u001b[0m \u001b[32m7.8/7.8 MB\u001b[0m \u001b[31m1.2 MB/s\u001b[0m eta \u001b[36m0:00:00\u001b[0m00:01\u001b[0m00:01\u001b[0m\n",
            "\u001b[?25hUsing cached multimethod-1.12-py3-none-any.whl (10 kB)\n",
            "Downloading numba-0.60.0-cp39-cp39-macosx_11_0_arm64.whl (2.7 MB)\n",
            "\u001b[2K   \u001b[90m━━━━━━━━━━━━━━━━━━━━━━━━━━━━━━━━━━━━━━━━\u001b[0m \u001b[32m2.7/2.7 MB\u001b[0m \u001b[31m1.3 MB/s\u001b[0m eta \u001b[36m0:00:00\u001b[0ma \u001b[36m0:00:01\u001b[0m\n",
            "\u001b[?25hDownloading phik-0.12.4-cp39-cp39-macosx_11_0_arm64.whl (655 kB)\n",
            "\u001b[2K   \u001b[90m━━━━━━━━━━━━━━━━━━━━━━━━━━━━━━━━━━━━━━━━\u001b[0m \u001b[32m656.0/656.0 kB\u001b[0m \u001b[31m1.2 MB/s\u001b[0m eta \u001b[36m0:00:00\u001b[0ma \u001b[36m0:00:01\u001b[0m\n",
            "\u001b[?25hUsing cached pydantic-2.9.1-py3-none-any.whl (434 kB)\n",
            "Downloading pydantic_core-2.23.3-cp39-cp39-macosx_11_0_arm64.whl (1.7 MB)\n",
            "\u001b[2K   \u001b[90m━━━━━━━━━━━━━━━━━━━━━━━━━━━━━━━━━━━━━━━━\u001b[0m \u001b[32m1.7/1.7 MB\u001b[0m \u001b[31m1.3 MB/s\u001b[0m eta \u001b[36m0:00:00\u001b[0ma \u001b[36m0:00:01\u001b[0m\n",
            "\u001b[?25hUsing cached pytz-2024.2-py2.py3-none-any.whl (508 kB)\n",
            "Downloading PyYAML-6.0.2-cp39-cp39-macosx_11_0_arm64.whl (172 kB)\n",
            "Downloading scipy-1.13.1-cp39-cp39-macosx_12_0_arm64.whl (30.3 MB)\n",
            "\u001b[2K   \u001b[90m━━━━━━━━━━━━━━━━━━━━━━━━━━━━━━━━━━━━━━━━\u001b[0m \u001b[32m30.3/30.3 MB\u001b[0m \u001b[31m1.1 MB/s\u001b[0m eta \u001b[36m0:00:00\u001b[0m00:01\u001b[0m00:01\u001b[0m\n",
            "\u001b[?25hDownloading statsmodels-0.14.2-cp39-cp39-macosx_11_0_arm64.whl (10.1 MB)\n",
            "\u001b[2K   \u001b[90m━━━━━━━━━━━━━━━━━━━━━━━━━━━━━━━━━━━━━━━━\u001b[0m \u001b[32m10.1/10.1 MB\u001b[0m \u001b[31m1.1 MB/s\u001b[0m eta \u001b[36m0:00:00\u001b[0m00:01\u001b[0m0:01\u001b[0m0m\n",
            "\u001b[?25hUsing cached tenacity-9.0.0-py3-none-any.whl (28 kB)\n",
            "Using cached threadpoolctl-3.5.0-py3-none-any.whl (18 kB)\n",
            "Using cached typeguard-4.3.0-py3-none-any.whl (35 kB)\n",
            "Using cached visions-0.7.5-py3-none-any.whl (102 kB)\n",
            "Using cached widgetsnbextension-4.0.13-py3-none-any.whl (2.3 MB)\n",
            "Downloading wordcloud-1.9.3-cp39-cp39-macosx_11_0_arm64.whl (168 kB)\n",
            "Using cached entrypoints-0.4-py3-none-any.whl (5.3 kB)\n",
            "Using cached toolz-0.12.1-py3-none-any.whl (56 kB)\n",
            "Using cached annotated_types-0.7.0-py3-none-any.whl (13 kB)\n",
            "Using cached attrs-24.2.0-py3-none-any.whl (63 kB)\n",
            "Downloading contourpy-1.3.0-cp39-cp39-macosx_11_0_arm64.whl (249 kB)\n",
            "Downloading fonttools-4.53.1-cp39-cp39-macosx_11_0_arm64.whl (2.2 MB)\n",
            "\u001b[2K   \u001b[90m━━━━━━━━━━━━━━━━━━━━━━━━━━━━━━━━━━━━━━━━\u001b[0m \u001b[32m2.2/2.2 MB\u001b[0m \u001b[31m1.1 MB/s\u001b[0m eta \u001b[36m0:00:00\u001b[0ma \u001b[36m0:00:01\u001b[0m0m\n",
            "\u001b[?25hDownloading importlib_resources-6.4.5-py3-none-any.whl (36 kB)\n",
            "Using cached jsonschema_specifications-2023.12.1-py3-none-any.whl (18 kB)\n",
            "Downloading kiwisolver-1.4.7-cp39-cp39-macosx_11_0_arm64.whl (64 kB)\n",
            "Downloading llvmlite-0.43.0-cp39-cp39-macosx_11_0_arm64.whl (28.8 MB)\n",
            "\u001b[2K   \u001b[90m━━━━━━━━━━━━━━━━━━━━━━━━━━━━━━━━━━━━━━━━\u001b[0m \u001b[32m28.8/28.8 MB\u001b[0m \u001b[31m1.2 MB/s\u001b[0m eta \u001b[36m0:00:00\u001b[0m00:01\u001b[0m00:01\u001b[0mm\n",
            "\u001b[?25hDownloading networkx-3.2.1-py3-none-any.whl (1.6 MB)\n",
            "\u001b[2K   \u001b[90m━━━━━━━━━━━━━━━━━━━━━━━━━━━━━━━━━━━━━━━━\u001b[0m \u001b[32m1.6/1.6 MB\u001b[0m \u001b[31m1.3 MB/s\u001b[0m eta \u001b[36m0:00:00\u001b[0ma \u001b[36m0:00:01\u001b[0m\n",
            "\u001b[?25hUsing cached patsy-0.5.6-py2.py3-none-any.whl (233 kB)\n",
            "Downloading pillow-10.4.0-cp39-cp39-macosx_11_0_arm64.whl (3.4 MB)\n",
            "\u001b[2K   \u001b[90m━━━━━━━━━━━━━━━━━━━━━━━━━━━━━━━━━━━━━━━━\u001b[0m \u001b[32m3.4/3.4 MB\u001b[0m \u001b[31m1.3 MB/s\u001b[0m eta \u001b[36m0:00:00\u001b[0ma \u001b[36m0:00:01\u001b[0m\n",
            "\u001b[?25hUsing cached pyparsing-3.1.4-py3-none-any.whl (104 kB)\n",
            "Using cached referencing-0.35.1-py3-none-any.whl (26 kB)\n",
            "Downloading rpds_py-0.20.0-cp39-cp39-macosx_11_0_arm64.whl (311 kB)\n",
            "Using cached tangled_up_in_unicode-0.2.0-py3-none-any.whl (4.7 MB)\n",
            "Downloading pywavelets-1.6.0-cp39-cp39-macosx_11_0_arm64.whl (4.3 MB)\n",
            "\u001b[2K   \u001b[90m━━━━━━━━━━━━━━━━━━━━━━━━━━━━━━━━━━━━━━━━\u001b[0m \u001b[32m4.3/4.3 MB\u001b[0m \u001b[31m1.2 MB/s\u001b[0m eta \u001b[36m0:00:00\u001b[0ma \u001b[36m0:00:01\u001b[0m\n",
            "\u001b[?25hBuilding wheels for collected packages: ppscore, htmlmin\n",
            "  Building wheel for ppscore (setup.py) ... \u001b[?25ldone\n",
            "\u001b[?25h  Created wheel for ppscore: filename=ppscore-1.3.0-py2.py3-none-any.whl size=13165 sha256=e180aa8d22ef22e097fafd1ad2b21541507bc011377d08a4e18d4797401d0a86\n",
            "  Stored in directory: /Users/Endeavour/Library/Caches/pip/wheels/d8/2d/fc/c1699298a1241684a460b125835f7871ee8e3ab3afea9b5d6f\n",
            "  Building wheel for htmlmin (setup.py) ... \u001b[?25ldone\n",
            "\u001b[?25h  Created wheel for htmlmin: filename=htmlmin-0.1.12-py3-none-any.whl size=27098 sha256=066b1d4f10fa037013e9a05e2a124dbaedcd1f945f42310f465ebd293269aa91\n",
            "  Stored in directory: /Users/Endeavour/Library/Caches/pip/wheels/1d/05/04/c6d7d3b66539d9e659ac6dfe81e2d0fd4c1a8316cc5a403300\n",
            "Successfully built ppscore htmlmin\n",
            "Installing collected packages: pytz, htmlmin, widgetsnbextension, toolz, threadpoolctl, tenacity, tangled-up-in-unicode, rpds-py, PyYAML, pyparsing, pydantic-core, protobuf, pillow, numpy, networkx, multimethod, MarkupSafe, llvmlite, kiwisolver, jupyterlab-widgets, joblib, importlib-resources, fonttools, entrypoints, dacite, cycler, attrs, annotated-types, typeguard, scipy, referencing, PyWavelets, pydantic, plotly, patsy, pandas, numba, Jinja2, contourpy, xgboost, visions, statsmodels, scikit-learn, matplotlib, jsonschema-specifications, imagehash, yellowbrick, wordcloud, seaborn, ppscore, phik, jsonschema, ipywidgets, imbalanced-learn, feature-engine, ydata-profiling, altair\n",
            "Successfully installed Jinja2-3.1.2 MarkupSafe-2.1.3 PyWavelets-1.6.0 PyYAML-6.0.2 altair-4.2.2 annotated-types-0.7.0 attrs-24.2.0 contourpy-1.3.0 cycler-0.12.1 dacite-1.8.1 entrypoints-0.4 feature-engine-1.6.1 fonttools-4.53.1 htmlmin-0.1.12 imagehash-4.3.1 imbalanced-learn-0.11.0 importlib-resources-6.4.5 ipywidgets-8.1.0 joblib-1.4.2 jsonschema-4.23.0 jsonschema-specifications-2023.12.1 jupyterlab-widgets-3.0.13 kiwisolver-1.4.7 llvmlite-0.43.0 matplotlib-3.9.2 multimethod-1.12 networkx-3.2.1 numba-0.60.0 numpy-1.26.0 pandas-1.4.2 patsy-0.5.6 phik-0.12.4 pillow-10.4.0 plotly-5.15.0 ppscore-1.3.0 protobuf-3.20.0 pydantic-2.9.1 pydantic-core-2.23.3 pyparsing-3.1.4 pytz-2024.2 referencing-0.35.1 rpds-py-0.20.0 scikit-learn-1.3.0 scipy-1.13.1 seaborn-0.12.2 statsmodels-0.14.2 tangled-up-in-unicode-0.2.0 tenacity-9.0.0 threadpoolctl-3.5.0 toolz-0.12.1 typeguard-4.3.0 visions-0.7.5 widgetsnbextension-4.0.13 wordcloud-1.9.3 xgboost-1.7.6 ydata-profiling-4.10.0 yellowbrick-1.5\n",
            "Note: you may need to restart the kernel to use updated packages.\n"
          ]
        }
      ],
      "source": [
        "%pip install -r /Users/Endeavour/Code/customer-churn-predictor/requirements.txt"
      ]
    },
    {
      "cell_type": "code",
      "execution_count": 23,
      "metadata": {},
      "outputs": [
        {
          "name": "stdout",
          "output_type": "stream",
          "text": [
            "Defaulting to user installation because normal site-packages is not writeable\n",
            "Requirement already satisfied: matplotlib in /Users/Endeavour/Library/Python/3.9/lib/python/site-packages (3.9.2)\n",
            "Note: you may need to restart the kernel to use updated packages.\n",
            "Defaulting to user installation because normal site-packages is not writeable\n",
            "Collecting streamlit\n",
            "  Using cached streamlit-1.38.0-py2.py3-none-any.whl.metadata (8.5 kB)\n",
            "Using cached streamlit-1.38.0-py2.py3-none-any.whl (8.7 MB)\n",
            "Installing collected packages: streamlit\n",
            "Successfully installed streamlit-1.38.0\n",
            "Note: you may need to restart the kernel to use updated packages.\n"
          ]
        }
      ],
      "source": [
        "%pip install matplotlib --no-deps\n",
        "%pip install streamlit --no-deps"
      ]
    },
    {
      "cell_type": "markdown",
      "metadata": {
        "id": "cqP-UeN-z3i2"
      },
      "source": [
        "# Change working directory"
      ]
    },
    {
      "cell_type": "markdown",
      "metadata": {
        "id": "aOGIGS-uz3i2"
      },
      "source": [
        "We need to change the working directory from its current folder to its parent folder\n",
        "* We access the current directory with os.getcwd()"
      ]
    },
    {
      "cell_type": "code",
      "execution_count": 24,
      "metadata": {
        "id": "wZfF_j-Bz3i4"
      },
      "outputs": [
        {
          "data": {
            "text/plain": [
              "'/Users/Endeavour/Code/customer-churn-predictor'"
            ]
          },
          "execution_count": 24,
          "metadata": {},
          "output_type": "execute_result"
        }
      ],
      "source": [
        "import os\n",
        "current_dir = os.getcwd()\n",
        "current_dir"
      ]
    },
    {
      "cell_type": "markdown",
      "metadata": {
        "id": "9MWW8E7lz3i7"
      },
      "source": [
        "Set the parent of the current directory as the new current directory.\n",
        "* os.path.dirname() gets the parent directory\n",
        "* os.chir() defines the new current directory"
      ]
    },
    {
      "cell_type": "code",
      "execution_count": 25,
      "metadata": {
        "id": "TwHsQRWjz3i9"
      },
      "outputs": [
        {
          "name": "stdout",
          "output_type": "stream",
          "text": [
            "You set a new current directory\n"
          ]
        }
      ],
      "source": [
        "os.chdir(os.path.dirname(current_dir))\n",
        "print(\"You set a new current directory\")"
      ]
    },
    {
      "cell_type": "markdown",
      "metadata": {
        "id": "M_xPk_Ijz3i-"
      },
      "source": [
        "Confirm the new current directory"
      ]
    },
    {
      "cell_type": "code",
      "execution_count": 26,
      "metadata": {
        "id": "vz3S-_kjz3jA"
      },
      "outputs": [
        {
          "data": {
            "text/plain": [
              "'/Users/Endeavour/Code'"
            ]
          },
          "execution_count": 26,
          "metadata": {},
          "output_type": "execute_result"
        }
      ],
      "source": [
        "current_dir = os.getcwd()\n",
        "current_dir"
      ]
    },
    {
      "cell_type": "markdown",
      "metadata": {
        "id": "-mavJ8DibrcQ"
      },
      "source": [
        "# Fetch data from Kaggle"
      ]
    },
    {
      "cell_type": "markdown",
      "metadata": {
        "id": "XQrZFfd_J4Ix"
      },
      "source": [
        "Install Kaggle package to fetch data"
      ]
    },
    {
      "cell_type": "code",
      "execution_count": 12,
      "metadata": {
        "id": "Xk7DU_ekbtX8"
      },
      "outputs": [
        {
          "name": "stdout",
          "output_type": "stream",
          "text": [
            "Defaulting to user installation because normal site-packages is not writeable\n",
            "Collecting kaggle==1.5.12\n",
            "  Downloading kaggle-1.5.12.tar.gz (58 kB)\n",
            "  Preparing metadata (setup.py) ... \u001b[?25ldone\n",
            "\u001b[?25hRequirement already satisfied: six>=1.10 in /Library/Developer/CommandLineTools/Library/Frameworks/Python3.framework/Versions/3.9/lib/python3.9/site-packages (from kaggle==1.5.12) (1.15.0)\n",
            "Collecting certifi (from kaggle==1.5.12)\n",
            "  Downloading certifi-2024.8.30-py3-none-any.whl.metadata (2.2 kB)\n",
            "Requirement already satisfied: python-dateutil in /Users/Endeavour/Library/Python/3.9/lib/python/site-packages (from kaggle==1.5.12) (2.9.0.post0)\n",
            "Collecting requests (from kaggle==1.5.12)\n",
            "  Downloading requests-2.32.3-py3-none-any.whl.metadata (4.6 kB)\n",
            "Collecting tqdm (from kaggle==1.5.12)\n",
            "  Downloading tqdm-4.66.5-py3-none-any.whl.metadata (57 kB)\n",
            "Collecting python-slugify (from kaggle==1.5.12)\n",
            "  Downloading python_slugify-8.0.4-py2.py3-none-any.whl.metadata (8.5 kB)\n",
            "Collecting urllib3 (from kaggle==1.5.12)\n",
            "  Downloading urllib3-2.2.2-py3-none-any.whl.metadata (6.4 kB)\n",
            "Collecting text-unidecode>=1.3 (from python-slugify->kaggle==1.5.12)\n",
            "  Downloading text_unidecode-1.3-py2.py3-none-any.whl.metadata (2.4 kB)\n",
            "Collecting charset-normalizer<4,>=2 (from requests->kaggle==1.5.12)\n",
            "  Downloading charset_normalizer-3.3.2-cp39-cp39-macosx_11_0_arm64.whl.metadata (33 kB)\n",
            "Collecting idna<4,>=2.5 (from requests->kaggle==1.5.12)\n",
            "  Downloading idna-3.8-py3-none-any.whl.metadata (9.9 kB)\n",
            "Downloading certifi-2024.8.30-py3-none-any.whl (167 kB)\n",
            "Downloading python_slugify-8.0.4-py2.py3-none-any.whl (10 kB)\n",
            "Downloading requests-2.32.3-py3-none-any.whl (64 kB)\n",
            "Downloading urllib3-2.2.2-py3-none-any.whl (121 kB)\n",
            "Downloading tqdm-4.66.5-py3-none-any.whl (78 kB)\n",
            "Downloading charset_normalizer-3.3.2-cp39-cp39-macosx_11_0_arm64.whl (120 kB)\n",
            "Downloading idna-3.8-py3-none-any.whl (66 kB)\n",
            "Downloading text_unidecode-1.3-py2.py3-none-any.whl (78 kB)\n",
            "Building wheels for collected packages: kaggle\n",
            "  Building wheel for kaggle (setup.py) ... \u001b[?25ldone\n",
            "\u001b[?25h  Created wheel for kaggle: filename=kaggle-1.5.12-py3-none-any.whl size=73051 sha256=167608ff3555dda0be936751c4183592512ac611c829a1d62a2cda6501055cf6\n",
            "  Stored in directory: /Users/Endeavour/Library/Caches/pip/wheels/ac/b2/c3/fa4706d469b5879105991d1c8be9a3c2ef329ba9fe2ce5085e\n",
            "Successfully built kaggle\n",
            "Installing collected packages: text-unidecode, urllib3, tqdm, python-slugify, idna, charset-normalizer, certifi, requests, kaggle\n",
            "Successfully installed certifi-2024.8.30 charset-normalizer-3.3.2 idna-3.8 kaggle-1.5.12 python-slugify-8.0.4 requests-2.32.3 text-unidecode-1.3 tqdm-4.66.5 urllib3-2.2.2\n",
            "Note: you may need to restart the kernel to use updated packages.\n"
          ]
        }
      ],
      "source": [
        "%pip install kaggle==1.5.12"
      ]
    },
    {
      "cell_type": "code",
      "execution_count": 27,
      "metadata": {
        "id": "LVlh18YgbyEg"
      },
      "outputs": [
        {
          "name": "stdout",
          "output_type": "stream",
          "text": [
            "chmod: kaggle.json: No such file or directory\n"
          ]
        }
      ],
      "source": [
        "import os\n",
        "os.environ['KAGGLE_CONFIG_DIR'] = os.getcwd()\n",
        "! chmod 600 kaggle.json"
      ]
    },
    {
      "cell_type": "markdown",
      "metadata": {
        "id": "ySAC0yIkNJm4"
      },
      "source": [
        "Get the dataset path from the Kaggle url"
      ]
    },
    {
      "cell_type": "markdown",
      "metadata": {
        "id": "ZW6SBfh8tryn"
      },
      "source": [
        "Define the Kaggle dataset, and destination folder for download."
      ]
    },
    {
      "cell_type": "code",
      "execution_count": 14,
      "metadata": {
        "id": "Rc45oPyntryo"
      },
      "outputs": [
        {
          "name": "stdout",
          "output_type": "stream",
          "text": [
            "/Users/Endeavour/Library/Python/3.9/lib/python/site-packages/urllib3/__init__.py:35: NotOpenSSLWarning: urllib3 v2 only supports OpenSSL 1.1.1+, currently the 'ssl' module is compiled with 'LibreSSL 2.8.3'. See: https://github.com/urllib3/urllib3/issues/3020\n",
            "  warnings.warn(\n",
            "Downloading telecom-churn-dataset.zip to inputs/datasets/raw\n",
            "100%|█████████████████████████████████████████| 172k/172k [00:00<00:00, 837kB/s]\n",
            "100%|█████████████████████████████████████████| 172k/172k [00:00<00:00, 824kB/s]\n"
          ]
        }
      ],
      "source": [
        "KaggleDatasetPath = \"gyanshashwat1611/telecom-churn-dataset\"\n",
        "DestinationFolder = \"inputs/datasets/raw\"   \n",
        "! kaggle datasets download -d {KaggleDatasetPath} -p {DestinationFolder}"
      ]
    },
    {
      "cell_type": "markdown",
      "metadata": {
        "id": "ji0ry2Gotryo"
      },
      "source": [
        "Unzip the downloaded file, delete the zip file and delete the kaggle.json file"
      ]
    },
    {
      "cell_type": "code",
      "execution_count": 15,
      "metadata": {
        "id": "bxYIDRGLtryp"
      },
      "outputs": [
        {
          "name": "stdout",
          "output_type": "stream",
          "text": [
            "Archive:  inputs/datasets/raw/telecom-churn-dataset.zip\n",
            "  inflating: inputs/datasets/raw/WA_Fn-UseC_-Telco-Customer-Churn.csv  \n"
          ]
        }
      ],
      "source": [
        "! unzip {DestinationFolder}/*.zip -d {DestinationFolder} \\\n",
        "  && rm {DestinationFolder}/*.zip \\\n",
        "  && rm kaggle.json"
      ]
    },
    {
      "cell_type": "markdown",
      "metadata": {
        "id": "ZY3l0-AxO93d"
      },
      "source": [
        "---"
      ]
    },
    {
      "cell_type": "markdown",
      "metadata": {
        "id": "uFQo3ycuO-v6"
      },
      "source": [
        "# Load and Inspect Kaggle data"
      ]
    },
    {
      "cell_type": "code",
      "execution_count": 29,
      "metadata": {
        "id": "CjEM52Z1YLRP"
      },
      "outputs": [
        {
          "data": {
            "text/html": [
              "<div>\n",
              "<style scoped>\n",
              "    .dataframe tbody tr th:only-of-type {\n",
              "        vertical-align: middle;\n",
              "    }\n",
              "\n",
              "    .dataframe tbody tr th {\n",
              "        vertical-align: top;\n",
              "    }\n",
              "\n",
              "    .dataframe thead th {\n",
              "        text-align: right;\n",
              "    }\n",
              "</style>\n",
              "<table border=\"1\" class=\"dataframe\">\n",
              "  <thead>\n",
              "    <tr style=\"text-align: right;\">\n",
              "      <th></th>\n",
              "      <th>customerID</th>\n",
              "      <th>gender</th>\n",
              "      <th>SeniorCitizen</th>\n",
              "      <th>Partner</th>\n",
              "      <th>Dependents</th>\n",
              "      <th>tenure</th>\n",
              "      <th>PhoneService</th>\n",
              "      <th>MultipleLines</th>\n",
              "      <th>InternetService</th>\n",
              "      <th>OnlineSecurity</th>\n",
              "      <th>...</th>\n",
              "      <th>DeviceProtection</th>\n",
              "      <th>TechSupport</th>\n",
              "      <th>StreamingTV</th>\n",
              "      <th>StreamingMovies</th>\n",
              "      <th>Contract</th>\n",
              "      <th>PaperlessBilling</th>\n",
              "      <th>PaymentMethod</th>\n",
              "      <th>MonthlyCharges</th>\n",
              "      <th>TotalCharges</th>\n",
              "      <th>Churn</th>\n",
              "    </tr>\n",
              "  </thead>\n",
              "  <tbody>\n",
              "    <tr>\n",
              "      <th>0</th>\n",
              "      <td>7590-VHVEG</td>\n",
              "      <td>Female</td>\n",
              "      <td>0</td>\n",
              "      <td>Yes</td>\n",
              "      <td>No</td>\n",
              "      <td>1</td>\n",
              "      <td>No</td>\n",
              "      <td>No phone service</td>\n",
              "      <td>DSL</td>\n",
              "      <td>No</td>\n",
              "      <td>...</td>\n",
              "      <td>No</td>\n",
              "      <td>No</td>\n",
              "      <td>No</td>\n",
              "      <td>No</td>\n",
              "      <td>Month-to-month</td>\n",
              "      <td>Yes</td>\n",
              "      <td>Electronic check</td>\n",
              "      <td>29.85</td>\n",
              "      <td>29.85</td>\n",
              "      <td>No</td>\n",
              "    </tr>\n",
              "    <tr>\n",
              "      <th>1</th>\n",
              "      <td>5575-GNVDE</td>\n",
              "      <td>Male</td>\n",
              "      <td>0</td>\n",
              "      <td>No</td>\n",
              "      <td>No</td>\n",
              "      <td>34</td>\n",
              "      <td>Yes</td>\n",
              "      <td>No</td>\n",
              "      <td>DSL</td>\n",
              "      <td>Yes</td>\n",
              "      <td>...</td>\n",
              "      <td>Yes</td>\n",
              "      <td>No</td>\n",
              "      <td>No</td>\n",
              "      <td>No</td>\n",
              "      <td>One year</td>\n",
              "      <td>No</td>\n",
              "      <td>Mailed check</td>\n",
              "      <td>56.95</td>\n",
              "      <td>1889.5</td>\n",
              "      <td>No</td>\n",
              "    </tr>\n",
              "    <tr>\n",
              "      <th>2</th>\n",
              "      <td>3668-QPYBK</td>\n",
              "      <td>Male</td>\n",
              "      <td>0</td>\n",
              "      <td>No</td>\n",
              "      <td>No</td>\n",
              "      <td>2</td>\n",
              "      <td>Yes</td>\n",
              "      <td>No</td>\n",
              "      <td>DSL</td>\n",
              "      <td>Yes</td>\n",
              "      <td>...</td>\n",
              "      <td>No</td>\n",
              "      <td>No</td>\n",
              "      <td>No</td>\n",
              "      <td>No</td>\n",
              "      <td>Month-to-month</td>\n",
              "      <td>Yes</td>\n",
              "      <td>Mailed check</td>\n",
              "      <td>53.85</td>\n",
              "      <td>108.15</td>\n",
              "      <td>Yes</td>\n",
              "    </tr>\n",
              "    <tr>\n",
              "      <th>3</th>\n",
              "      <td>7795-CFOCW</td>\n",
              "      <td>Male</td>\n",
              "      <td>0</td>\n",
              "      <td>No</td>\n",
              "      <td>No</td>\n",
              "      <td>45</td>\n",
              "      <td>No</td>\n",
              "      <td>No phone service</td>\n",
              "      <td>DSL</td>\n",
              "      <td>Yes</td>\n",
              "      <td>...</td>\n",
              "      <td>Yes</td>\n",
              "      <td>Yes</td>\n",
              "      <td>No</td>\n",
              "      <td>No</td>\n",
              "      <td>One year</td>\n",
              "      <td>No</td>\n",
              "      <td>Bank transfer (automatic)</td>\n",
              "      <td>42.30</td>\n",
              "      <td>1840.75</td>\n",
              "      <td>No</td>\n",
              "    </tr>\n",
              "    <tr>\n",
              "      <th>4</th>\n",
              "      <td>9237-HQITU</td>\n",
              "      <td>Female</td>\n",
              "      <td>0</td>\n",
              "      <td>No</td>\n",
              "      <td>No</td>\n",
              "      <td>2</td>\n",
              "      <td>Yes</td>\n",
              "      <td>No</td>\n",
              "      <td>Fiber optic</td>\n",
              "      <td>No</td>\n",
              "      <td>...</td>\n",
              "      <td>No</td>\n",
              "      <td>No</td>\n",
              "      <td>No</td>\n",
              "      <td>No</td>\n",
              "      <td>Month-to-month</td>\n",
              "      <td>Yes</td>\n",
              "      <td>Electronic check</td>\n",
              "      <td>70.70</td>\n",
              "      <td>151.65</td>\n",
              "      <td>Yes</td>\n",
              "    </tr>\n",
              "  </tbody>\n",
              "</table>\n",
              "<p>5 rows × 21 columns</p>\n",
              "</div>"
            ],
            "text/plain": [
              "   customerID  gender  SeniorCitizen Partner Dependents  tenure PhoneService  \\\n",
              "0  7590-VHVEG  Female              0     Yes         No       1           No   \n",
              "1  5575-GNVDE    Male              0      No         No      34          Yes   \n",
              "2  3668-QPYBK    Male              0      No         No       2          Yes   \n",
              "3  7795-CFOCW    Male              0      No         No      45           No   \n",
              "4  9237-HQITU  Female              0      No         No       2          Yes   \n",
              "\n",
              "      MultipleLines InternetService OnlineSecurity  ... DeviceProtection  \\\n",
              "0  No phone service             DSL             No  ...               No   \n",
              "1                No             DSL            Yes  ...              Yes   \n",
              "2                No             DSL            Yes  ...               No   \n",
              "3  No phone service             DSL            Yes  ...              Yes   \n",
              "4                No     Fiber optic             No  ...               No   \n",
              "\n",
              "  TechSupport StreamingTV StreamingMovies        Contract PaperlessBilling  \\\n",
              "0          No          No              No  Month-to-month              Yes   \n",
              "1          No          No              No        One year               No   \n",
              "2          No          No              No  Month-to-month              Yes   \n",
              "3         Yes          No              No        One year               No   \n",
              "4          No          No              No  Month-to-month              Yes   \n",
              "\n",
              "               PaymentMethod MonthlyCharges  TotalCharges Churn  \n",
              "0           Electronic check          29.85         29.85    No  \n",
              "1               Mailed check          56.95        1889.5    No  \n",
              "2               Mailed check          53.85        108.15   Yes  \n",
              "3  Bank transfer (automatic)          42.30       1840.75    No  \n",
              "4           Electronic check          70.70        151.65   Yes  \n",
              "\n",
              "[5 rows x 21 columns]"
            ]
          },
          "execution_count": 29,
          "metadata": {},
          "output_type": "execute_result"
        }
      ],
      "source": [
        "import pandas as pd\n",
        "df = pd.read_csv(f\"/Users/Endeavour/Code/customer-churn-predictor/inputs/datasets/raw/WA_Fn-UseC_-Telco-Customer-Churn.csv\")\n",
        "df.head()"
      ]
    },
    {
      "cell_type": "markdown",
      "metadata": {
        "id": "cKG2pKb3hmY4"
      },
      "source": [
        "DataFrame Summary"
      ]
    },
    {
      "cell_type": "code",
      "execution_count": 30,
      "metadata": {
        "id": "YtKKWuPhg7r8"
      },
      "outputs": [
        {
          "name": "stdout",
          "output_type": "stream",
          "text": [
            "<class 'pandas.core.frame.DataFrame'>\n",
            "RangeIndex: 7043 entries, 0 to 7042\n",
            "Data columns (total 21 columns):\n",
            " #   Column            Non-Null Count  Dtype  \n",
            "---  ------            --------------  -----  \n",
            " 0   customerID        7043 non-null   object \n",
            " 1   gender            7043 non-null   object \n",
            " 2   SeniorCitizen     7043 non-null   int64  \n",
            " 3   Partner           7043 non-null   object \n",
            " 4   Dependents        7043 non-null   object \n",
            " 5   tenure            7043 non-null   int64  \n",
            " 6   PhoneService      7043 non-null   object \n",
            " 7   MultipleLines     7043 non-null   object \n",
            " 8   InternetService   7043 non-null   object \n",
            " 9   OnlineSecurity    7043 non-null   object \n",
            " 10  OnlineBackup      7043 non-null   object \n",
            " 11  DeviceProtection  7043 non-null   object \n",
            " 12  TechSupport       7043 non-null   object \n",
            " 13  StreamingTV       7043 non-null   object \n",
            " 14  StreamingMovies   7043 non-null   object \n",
            " 15  Contract          7043 non-null   object \n",
            " 16  PaperlessBilling  7043 non-null   object \n",
            " 17  PaymentMethod     7043 non-null   object \n",
            " 18  MonthlyCharges    7043 non-null   float64\n",
            " 19  TotalCharges      7043 non-null   object \n",
            " 20  Churn             7043 non-null   object \n",
            "dtypes: float64(1), int64(2), object(18)\n",
            "memory usage: 1.1+ MB\n"
          ]
        }
      ],
      "source": [
        "df.info()"
      ]
    },
    {
      "cell_type": "markdown",
      "metadata": {
        "id": "hcB2YJiOH4pm"
      },
      "source": [
        "Check if there are duplicated `customerID`: There are not."
      ]
    },
    {
      "cell_type": "code",
      "execution_count": 31,
      "metadata": {
        "id": "3om7yFYAH1vl"
      },
      "outputs": [
        {
          "data": {
            "text/html": [
              "<div>\n",
              "<style scoped>\n",
              "    .dataframe tbody tr th:only-of-type {\n",
              "        vertical-align: middle;\n",
              "    }\n",
              "\n",
              "    .dataframe tbody tr th {\n",
              "        vertical-align: top;\n",
              "    }\n",
              "\n",
              "    .dataframe thead th {\n",
              "        text-align: right;\n",
              "    }\n",
              "</style>\n",
              "<table border=\"1\" class=\"dataframe\">\n",
              "  <thead>\n",
              "    <tr style=\"text-align: right;\">\n",
              "      <th></th>\n",
              "      <th>customerID</th>\n",
              "      <th>gender</th>\n",
              "      <th>SeniorCitizen</th>\n",
              "      <th>Partner</th>\n",
              "      <th>Dependents</th>\n",
              "      <th>tenure</th>\n",
              "      <th>PhoneService</th>\n",
              "      <th>MultipleLines</th>\n",
              "      <th>InternetService</th>\n",
              "      <th>OnlineSecurity</th>\n",
              "      <th>...</th>\n",
              "      <th>DeviceProtection</th>\n",
              "      <th>TechSupport</th>\n",
              "      <th>StreamingTV</th>\n",
              "      <th>StreamingMovies</th>\n",
              "      <th>Contract</th>\n",
              "      <th>PaperlessBilling</th>\n",
              "      <th>PaymentMethod</th>\n",
              "      <th>MonthlyCharges</th>\n",
              "      <th>TotalCharges</th>\n",
              "      <th>Churn</th>\n",
              "    </tr>\n",
              "  </thead>\n",
              "  <tbody>\n",
              "  </tbody>\n",
              "</table>\n",
              "<p>0 rows × 21 columns</p>\n",
              "</div>"
            ],
            "text/plain": [
              "Empty DataFrame\n",
              "Columns: [customerID, gender, SeniorCitizen, Partner, Dependents, tenure, PhoneService, MultipleLines, InternetService, OnlineSecurity, OnlineBackup, DeviceProtection, TechSupport, StreamingTV, StreamingMovies, Contract, PaperlessBilling, PaymentMethod, MonthlyCharges, TotalCharges, Churn]\n",
              "Index: []\n",
              "\n",
              "[0 rows x 21 columns]"
            ]
          },
          "execution_count": 31,
          "metadata": {},
          "output_type": "execute_result"
        }
      ],
      "source": [
        "df[df.duplicated(subset=['customerID'])]"
      ]
    },
    {
      "cell_type": "markdown",
      "metadata": {
        "id": "tkbvvaiRk3e8"
      },
      "source": [
        "Converting `TotalCharges` to numeric"
      ]
    },
    {
      "cell_type": "code",
      "execution_count": 32,
      "metadata": {
        "id": "FRqGWi0Uk27X"
      },
      "outputs": [],
      "source": [
        "df['TotalCharges'] = pd.to_numeric(df['TotalCharges'] ,errors='coerce')"
      ]
    },
    {
      "cell_type": "markdown",
      "metadata": {
        "id": "VBW35xd1hZSY"
      },
      "source": [
        "Check `TotalCharges` data type"
      ]
    },
    {
      "cell_type": "code",
      "execution_count": 33,
      "metadata": {
        "id": "fJvKpZQDhQc3"
      },
      "outputs": [
        {
          "data": {
            "text/plain": [
              "dtype('float64')"
            ]
          },
          "execution_count": 33,
          "metadata": {},
          "output_type": "execute_result"
        }
      ],
      "source": [
        "df['TotalCharges'].dtype"
      ]
    },
    {
      "cell_type": "markdown",
      "metadata": {
        "id": "HaObnZm0x8od"
      },
      "source": [
        "Currently, `Churn` is a categorical variable: Yes or No. We will replace/convert it to an integer as the ML model requires numeric variables. "
      ]
    },
    {
      "cell_type": "code",
      "execution_count": 34,
      "metadata": {
        "id": "9ivG1m2Ntryw"
      },
      "outputs": [
        {
          "data": {
            "text/plain": [
              "array(['No', 'Yes'], dtype=object)"
            ]
          },
          "execution_count": 34,
          "metadata": {},
          "output_type": "execute_result"
        }
      ],
      "source": [
        "df['Churn'].unique()"
      ]
    },
    {
      "cell_type": "code",
      "execution_count": 35,
      "metadata": {
        "id": "AX5SeWxpxg8z"
      },
      "outputs": [],
      "source": [
        "df['Churn'] = df['Churn'].replace({\"Yes\":1, \"No\":0})"
      ]
    },
    {
      "cell_type": "markdown",
      "metadata": {
        "id": "vbo03aCPyKu-"
      },
      "source": [
        "Check the `Churn` data type."
      ]
    },
    {
      "cell_type": "code",
      "execution_count": 36,
      "metadata": {
        "id": "W6vlA0ZxyHeO"
      },
      "outputs": [
        {
          "data": {
            "text/plain": [
              "dtype('int64')"
            ]
          },
          "execution_count": 36,
          "metadata": {},
          "output_type": "execute_result"
        }
      ],
      "source": [
        "df['Churn'].dtype"
      ]
    },
    {
      "cell_type": "markdown",
      "metadata": {
        "id": "ltNetd085qHf"
      },
      "source": [
        "# Push files to Repo"
      ]
    },
    {
      "cell_type": "code",
      "execution_count": 38,
      "metadata": {
        "id": "aKlnIozA4eQO"
      },
      "outputs": [
        {
          "name": "stdout",
          "output_type": "stream",
          "text": [
            "[Errno 17] File exists: '/Users/Endeavour/Code/customer-churn-predictor/outputs/datasets/collection'\n"
          ]
        }
      ],
      "source": [
        "import os\n",
        "try:\n",
        "  os.makedirs(name='/Users/Endeavour/Code/customer-churn-predictor/outputs/datasets/collection') # create outputs/datasets/collection folder\n",
        "except Exception as e:\n",
        "  print(e)\n",
        "\n",
        "df.to_csv(f\"/Users/Endeavour/Code/customer-churn-predictor/outputs/datasets/collection/TelcoCustomerChurn.csv\",index=False)"
      ]
    }
  ],
  "metadata": {
    "accelerator": "GPU",
    "colab": {
      "name": "Data Practitioner Jupyter Notebook.ipynb",
      "provenance": [],
      "toc_visible": true
    },
    "interpreter": {
      "hash": "8b8334dab9339717f727a1deaf837b322d7a41c20d15cc86be99a8e69ceec8ce"
    },
    "kernelspec": {
      "display_name": "Python 3.8.12 64-bit ('3.8.12': pyenv)",
      "name": "python3"
    },
    "language_info": {
      "codemirror_mode": {
        "name": "ipython",
        "version": 3
      },
      "file_extension": ".py",
      "mimetype": "text/x-python",
      "name": "python",
      "nbconvert_exporter": "python",
      "pygments_lexer": "ipython3",
      "version": "3.9.6"
    },
    "orig_nbformat": 2
  },
  "nbformat": 4,
  "nbformat_minor": 0
}
